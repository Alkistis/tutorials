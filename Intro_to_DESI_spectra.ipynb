{
 "cells": [
  {
   "cell_type": "markdown",
   "metadata": {},
   "source": [
    "# Introduction to DESI Spectra\n",
    "\n",
    "The goal of this notebook is to demonstrate how to read in and manipulate DESI spectra using simulated spectra created as part of a DESI Data Challenge.\n",
    "\n",
    "If you identify any errors or have requests for additional functionality please create a new issue on https://github.com/desihub/tutorials/issues or send a note to desi-data@desi.lbl.gov.\n",
    "\n",
    "Last updated July 2018 using desi software release 18.6."
   ]
  },
  {
   "cell_type": "markdown",
   "metadata": {},
   "source": [
    "## Getting started\n",
    "\n",
    "### Using NERSC\n",
    "\n",
    "The easiest way to get started is to use the jupyter server at NERSC so that you don't need to\n",
    "install any code or download any data locally.\n",
    "\n",
    "If you need a NERSC account, see https://desi.lbl.gov/trac/wiki/Computing/AccessNersc\n",
    "\n",
    "Then do the one-time jupyter-dev configuration described at https://desi.lbl.gov/trac/wiki/Computing/JupyterAtNERSC\n",
    "\n",
    "From a NERSC command line, checkout a copy of the tutorial code, *e.g.* from cori.nersc.gov\n",
    "```console\n",
    "mkdir -p $HOME/desi/\n",
    "cd $HOME/desi/\n",
    "git clone https://github.com/desihub/tutorials\n",
    "```\n",
    "And then go to https://jupyter-dev.nersc.gov, login, navigate to where you checked out this package (*e.g.* `$HOME/desi/tutorials`), and double-click on `Intro_to_DESI_spectra.ipynb`.\n",
    "\n",
    "This tutorial has been tested using the \"DESI 18.6\" kernel installed at NERSC.  To get an equivalent environment from a cori command line:\n",
    "```console\n",
    "source /global/common/software/desi/desi_environment.sh 18.6\n",
    "```"
   ]
  },
  {
   "cell_type": "markdown",
   "metadata": {},
   "source": [
    "## Import required modules"
   ]
  },
  {
   "cell_type": "code",
   "execution_count": 1,
   "metadata": {},
   "outputs": [
    {
     "name": "stdout",
     "output_type": "stream",
     "text": [
      "Populating the interactive namespace from numpy and matplotlib\n"
     ]
    }
   ],
   "source": [
    "import os\n",
    "import numpy as np\n",
    "import healpy as hp\n",
    "from glob import glob\n",
    "import fitsio\n",
    "from collections import defaultdict\n",
    "\n",
    "from desitarget.targetmask import desi_mask\n",
    "import desispec.io\n",
    "\n",
    "import matplotlib.pyplot as plt\n",
    "%pylab inline"
   ]
  },
  {
   "cell_type": "markdown",
   "metadata": {},
   "source": [
    "If you are running locally and any of these fail, \n",
    "you should go back through the [installation instructions]( https://desi.lbl.gov/trac/wiki/Pipeline/GettingStarted/Laptop) and/or email desi-data@desi.lbl.gov if you get stuck.\n",
    "If you are running from jupyter-dev and have problems, double check that your kernel is \"DESI 18.6\"."
   ]
  },
  {
   "cell_type": "markdown",
   "metadata": {},
   "source": [
    "## Environment variables and data\n",
    "\n",
    "Like BOSS, DESI uses environment variables to define the base directories for where to find data.  The below paths are for NERSC, but if you are running locally or want to access a different dataset, change these as needed to wherever your dataset is.\n",
    "\n",
    "Spectro production runs are grouped under `$DESI_SPECTRO_REDUX`, with `$SPECPROD` indicating which run to use, such that the data are under `$DESI_SPECTRO_REDUX/$SPECPROD`.  *e.g.* during operations, official productions will be in `$DESI_SPECTRO_REDUX=/project/projectdirs/desi/spectro/redux` and `$SPECPROD` would be the name for individual data assemblies, *e.g.* `$SPECPROD=DA1`.  In this case, we'll use reference run 18.6 data."
   ]
  },
  {
   "cell_type": "code",
   "execution_count": 2,
   "metadata": {},
   "outputs": [
    {
     "name": "stdout",
     "output_type": "stream",
     "text": [
      "env: DESI_SPECTRO_REDUX=/global/cscratch1/sd/sjbailey/desi/dev/end2end/spectro/redux\n",
      "env: SPECPROD=mini\n"
     ]
    }
   ],
   "source": [
    "# %set_env DESI_SPECTRO_REDUX=/project/projectdirs/desi/datachallenge/reference_runs/18.6/spectro/redux/\n",
    "%set_env DESI_SPECTRO_REDUX=/global/cscratch1/sd/sjbailey/desi/dev/end2end/spectro/redux\n",
    "%set_env SPECPROD=mini"
   ]
  },
  {
   "cell_type": "markdown",
   "metadata": {},
   "source": [
    "`desispec.io.specprod_root` can handle the environment variable path wrangling for you:"
   ]
  },
  {
   "cell_type": "code",
   "execution_count": 3,
   "metadata": {},
   "outputs": [
    {
     "name": "stdout",
     "output_type": "stream",
     "text": [
      "/global/cscratch1/sd/sjbailey/desi/dev/end2end/spectro/redux/mini\n"
     ]
    }
   ],
   "source": [
    "reduxdir = desispec.io.specprod_root()\n",
    "print(reduxdir)"
   ]
  },
  {
   "cell_type": "code",
   "execution_count": 4,
   "metadata": {},
   "outputs": [
    {
     "name": "stdout",
     "output_type": "stream",
     "text": [
      "$DESI_SPECTRO_REDUX=/global/cscratch1/sd/sjbailey/desi/dev/end2end/spectro/redux\n",
      "$SPECPROD=mini\n",
      "OK: /global/cscratch1/sd/sjbailey/desi/dev/end2end/spectro/redux/mini exists\n"
     ]
    }
   ],
   "source": [
    "#- Do check that these are set correctly before proceeding\n",
    "def check_env():\n",
    "    for env in ('DESI_SPECTRO_REDUX', 'SPECPROD'):\n",
    "        if env in os.environ:\n",
    "            print('${}={}'.format(env, os.getenv(env)))\n",
    "        else:\n",
    "            print('Required environment variable {} not set!'.format(env))\n",
    "\n",
    "    reduxdir = desispec.io.specprod_root()\n",
    "    if not os.path.exists(reduxdir):\n",
    "        print(\"ERROR: {} doesn't exist; check $DESI_SPECTRO_REDUX/$SPECPROD\".format(reduxdir))\n",
    "    else:\n",
    "        print('OK: {} exists'.format(reduxdir))\n",
    "\n",
    "check_env()"
   ]
  },
  {
   "cell_type": "markdown",
   "metadata": {},
   "source": [
    "## Data Model for the spectra"
   ]
  },
  {
   "cell_type": "markdown",
   "metadata": {},
   "source": [
    "### Directory structure\n",
    "\n",
    "Spectra from individual exposures are in the `exposures` directory.  But since DESI will take multiple exposures of overlapping tiles, the data from any given target or patch of sky could be spread across multiple files in multiple directories.  To simplify this, the calibrated spectra are repackaged into a `spectra-64` directory, where all spectra for a given healpix on the sky are grouped together.  See an appendix to this tutorial for a quick overview of healpix.\n",
    "\n",
    "The directory structure is: \n",
    "\n",
    "```\n",
    "$DESI_SPECTRO_REDUX/$SPECPROD/spectra-{nside}/{group}/{pix}/*-{nside}-{pix}.fits\n",
    "```\n",
    "\n",
    "where\n",
    "  * `nside` is the healpix nside hierarchy level with a default is\n",
    "    nside=64 corresponding to pixels of 0.84 $deg^2$ with a few thousand targets each.\n",
    "  * `group = nside//100` to avoid having thousands of directories at the same level\n",
    "  * `pix` is the healpixel number using the *nested* scheme.\n",
    "\n",
    "For example for `nside=64` and `pixel=16879`:\n",
    "\n",
    "```\n",
    "$DESI_SPECTRO_REDUX/$SPECTRO/spectra-64/168/16879/spectra-64-16879.fits\n",
    "$DESI_SPECTRO_REDUX/$SPECTRO/spectra-64/168/16879/zbest-64-16879.fits\n",
    "```\n",
    "\n",
    "where the first file contains the spectra and the second file contains information on the best-fit redshifts from the [redrock](https://github.com/desihub/redrock) code.\n",
    "\n",
    "Let's poke around in these directories."
   ]
  },
  {
   "cell_type": "code",
   "execution_count": 5,
   "metadata": {},
   "outputs": [
    {
     "name": "stdout",
     "output_type": "stream",
     "text": [
      "/global/cscratch1/sd/sjbailey/desi/dev/end2end/spectro/redux/mini/spectra-64\n",
      "['56', '53', '52']\n"
     ]
    }
   ],
   "source": [
    "basedir = os.path.join(os.getenv(\"DESI_SPECTRO_REDUX\"),os.getenv(\"SPECPROD\"),\"spectra-64\")\n",
    "subdir = os.listdir(basedir)\n",
    "print(basedir)\n",
    "print(subdir)"
   ]
  },
  {
   "cell_type": "code",
   "execution_count": 6,
   "metadata": {},
   "outputs": [
    {
     "name": "stdout",
     "output_type": "stream",
     "text": [
      "/global/cscratch1/sd/sjbailey/desi/dev/end2end/spectro/redux/mini/spectra-64/56\n",
      "['5648', '5651', '5649', '5653', '5650', '5654', '5652', '5637']\n"
     ]
    }
   ],
   "source": [
    "basedir = os.path.join(basedir,subdir[0])\n",
    "subdir = os.listdir(basedir)\n",
    "pixnums = np.array([int(pixnum) for pixnum in subdir])\n",
    "print(basedir)\n",
    "print(subdir)"
   ]
  },
  {
   "cell_type": "code",
   "execution_count": 7,
   "metadata": {},
   "outputs": [
    {
     "name": "stdout",
     "output_type": "stream",
     "text": [
      "/global/cscratch1/sd/sjbailey/desi/dev/end2end/spectro/redux/mini/spectra-64/56/5648\n",
      "['spectra-64-5648.fits', 'redrock-64-5648.h5', 'zbest-64-5648.fits']\n"
     ]
    }
   ],
   "source": [
    "basedir = os.path.join(basedir,subdir[0])\n",
    "subdir = os.listdir(basedir)\n",
    "print(basedir)\n",
    "print(subdir)"
   ]
  },
  {
   "cell_type": "markdown",
   "metadata": {},
   "source": [
    "`desispec.io.findfile` provides utility functions for the path wrangling, *e.g.*:"
   ]
  },
  {
   "cell_type": "code",
   "execution_count": 8,
   "metadata": {},
   "outputs": [
    {
     "data": {
      "text/plain": [
       "'/global/cscratch1/sd/sjbailey/desi/dev/end2end/spectro/redux/mini/spectra-64/53/5302/spectra-64-5302.fits'"
      ]
     },
     "execution_count": 8,
     "metadata": {},
     "output_type": "execute_result"
    }
   ],
   "source": [
    "desispec.io.findfile('spectra', groupname=5302)"
   ]
  },
  {
   "cell_type": "markdown",
   "metadata": {},
   "source": [
    "### spectra file format"
   ]
  },
  {
   "cell_type": "markdown",
   "metadata": {},
   "source": [
    "What about the Data Model for the spectra themselves?"
   ]
  },
  {
   "cell_type": "code",
   "execution_count": 9,
   "metadata": {},
   "outputs": [
    {
     "data": {
      "text/plain": [
       "\n",
       "  file: /global/cscratch1/sd/sjbailey/desi/dev/end2end/spectro/redux/mini/spectra-64/52/5263/spectra-64-5263.fits\n",
       "  mode: READONLY\n",
       "  extnum hdutype         hduname[v]\n",
       "  0      IMAGE_HDU       \n",
       "  1      BINARY_TBL      FIBERMAP\n",
       "  2      BINARY_TBL      SCORES\n",
       "  3      IMAGE_HDU       B_WAVELENGTH\n",
       "  4      IMAGE_HDU       B_FLUX\n",
       "  5      IMAGE_HDU       B_IVAR\n",
       "  6      IMAGE_HDU       B_MASK\n",
       "  7      IMAGE_HDU       B_RESOLUTION\n",
       "  8      IMAGE_HDU       R_WAVELENGTH\n",
       "  9      IMAGE_HDU       R_FLUX\n",
       "  10     IMAGE_HDU       R_IVAR\n",
       "  11     IMAGE_HDU       R_MASK\n",
       "  12     IMAGE_HDU       R_RESOLUTION\n",
       "  13     IMAGE_HDU       Z_WAVELENGTH\n",
       "  14     IMAGE_HDU       Z_FLUX\n",
       "  15     IMAGE_HDU       Z_IVAR\n",
       "  16     IMAGE_HDU       Z_MASK\n",
       "  17     IMAGE_HDU       Z_RESOLUTION"
      ]
     },
     "execution_count": 9,
     "metadata": {},
     "output_type": "execute_result"
    }
   ],
   "source": [
    "specfiles = sorted(glob(reduxdir+'/spectra-64/*/*/spectra*.fits'))\n",
    "specfilename = specfiles[2]\n",
    "DM = fitsio.FITS(specfilename)\n",
    "DM"
   ]
  },
  {
   "cell_type": "markdown",
   "metadata": {},
   "source": [
    "HDU 0 is blank.  The others should be used by name, not by number since the order could vary.\n",
    "\n",
    "`FIBERMAP` stores the mapping of the imaging information used to target and place a fiber on the source.\n",
    "\n",
    "The other HDUs contain the wavelength arrays, flux, inverse variance (ivar), mask (0 is good), and spectral resolution data for each of the \"B\", \"R\", and \"Z\" cameras.\n",
    "\n",
    "Let's start by looking at the fibermap."
   ]
  },
  {
   "cell_type": "code",
   "execution_count": 10,
   "metadata": {},
   "outputs": [
    {
     "data": {
      "text/plain": [
       "[('TARGETID', '>i8'),\n",
       " ('DESI_TARGET', '>i8'),\n",
       " ('BGS_TARGET', '>i8'),\n",
       " ('MWS_TARGET', '>i8'),\n",
       " ('SECONDARY_TARGET', '>i8'),\n",
       " ('TARGET_RA', '>f8'),\n",
       " ('TARGET_DEC', '>f8'),\n",
       " ('TARGET_RA_IVAR', '>f8'),\n",
       " ('TARGET_DEC_IVAR', '>f8'),\n",
       " ('BRICKID', '>i8'),\n",
       " ('BRICK_OBJID', '>i8'),\n",
       " ('MORPHTYPE', '|S4'),\n",
       " ('PRIORITY', '>i4'),\n",
       " ('SUBPRIORITY', '>f8'),\n",
       " ('REF_ID', '>i8'),\n",
       " ('PMRA', '>f4'),\n",
       " ('PMDEC', '>f4'),\n",
       " ('PMRA_IVAR', '>f4'),\n",
       " ('PMDEC_IVAR', '>f4'),\n",
       " ('FLUX_G', '>f4'),\n",
       " ('FLUX_R', '>f4'),\n",
       " ('FLUX_Z', '>f4'),\n",
       " ('FLUX_W1', '>f4'),\n",
       " ('FLUX_W2', '>f4'),\n",
       " ('FLUX_IVAR_G', '>f4'),\n",
       " ('FLUX_IVAR_R', '>f4'),\n",
       " ('FLUX_IVAR_Z', '>f4'),\n",
       " ('FLUX_IVAR_W1', '>f4'),\n",
       " ('FLUX_IVAR_W2', '>f4'),\n",
       " ('FIBERFLUX_G', '>f4'),\n",
       " ('FIBERFLUX_R', '>f4'),\n",
       " ('FIBERFLUX_Z', '>f4'),\n",
       " ('FIBERFLUX_W1', '>f4'),\n",
       " ('FIBERFLUX_W2', '>f4'),\n",
       " ('FIBERTOTFLUX_G', '>f4'),\n",
       " ('FIBERTOTFLUX_R', '>f4'),\n",
       " ('FIBERTOTFLUX_Z', '>f4'),\n",
       " ('FIBERTOTFLUX_W1', '>f4'),\n",
       " ('FIBERTOTFLUX_W2', '>f4'),\n",
       " ('MW_TRANSMISSION_G', '>f4'),\n",
       " ('MW_TRANSMISSION_R', '>f4'),\n",
       " ('MW_TRANSMISSION_Z', '>f4'),\n",
       " ('EBV', '>f4'),\n",
       " ('PHOTSYS', '|S1'),\n",
       " ('FIBER', '>i4'),\n",
       " ('PETAL_LOC', '>i4'),\n",
       " ('DEVICE_LOC', '>i4'),\n",
       " ('LOCATION', '>i4'),\n",
       " ('FIBERSTATUS', '>i4'),\n",
       " ('OBJTYPE', '|S3'),\n",
       " ('LAMBDA_REF', '>f4'),\n",
       " ('DESIGN_X', '>f4'),\n",
       " ('DESIGN_Y', '>f4'),\n",
       " ('DESIGN_Q', '>f4'),\n",
       " ('DESIGN_S', '>f4'),\n",
       " ('NUMTARGET', '>i2'),\n",
       " ('FIBER_RA', '>f8'),\n",
       " ('FIBER_DEC', '>f8'),\n",
       " ('FIBER_RA_IVAR', '>f4'),\n",
       " ('FIBER_DEC_IVAR', '>f4'),\n",
       " ('DELTA_X', '>f4'),\n",
       " ('DELTA_Y', '>f4'),\n",
       " ('DELTA_X_IVAR', '>f4'),\n",
       " ('DELTA_Y_IVAR', '>f4'),\n",
       " ('NUM_ITER', '>i4'),\n",
       " ('SPECTROID', '>i4'),\n",
       " ('BRICKNAME', '|S8'),\n",
       " ('LAMBDAREF', '>f8'),\n",
       " ('NIGHT', '>i4'),\n",
       " ('EXPID', '>i4'),\n",
       " ('TILEID', '>i4')]"
      ]
     },
     "execution_count": 10,
     "metadata": {},
     "output_type": "execute_result"
    }
   ],
   "source": [
    "fm = fitsio.read(specfilename,'FIBERMAP')\n",
    "fm.dtype.descr"
   ]
  },
  {
   "cell_type": "markdown",
   "metadata": {},
   "source": [
    "`TARGETID` is the unique mapping from target information to a fiber. So, if you wanted to look up full imaging information for a spectrum, you can map back to target files using `TARGETID`.\n",
    "\n",
    "Just out of interest, are the RAs and Decs of these objects in the expected HEALPix pixel?"
   ]
  },
  {
   "cell_type": "code",
   "execution_count": 12,
   "metadata": {},
   "outputs": [
    {
     "name": "stdout",
     "output_type": "stream",
     "text": [
      "5263 5263\n",
      "/global/cscratch1/sd/sjbailey/desi/dev/end2end/spectro/redux/mini/spectra-64/52/5263/spectra-64-5263.fits\n"
     ]
    }
   ],
   "source": [
    "pixnums = hp.ang2pix(64, fm[\"TARGET_RA\"], fm[\"TARGET_DEC\"], nest=True, lonlat=True)\n",
    "print(np.min(pixnums),np.max(pixnums))\n",
    "print(specfilename)"
   ]
  },
  {
   "cell_type": "markdown",
   "metadata": {},
   "source": [
    "I wonder what (roughly) the entirety of this pixel looks like, as mapped out by sources with spectra:"
   ]
  },
  {
   "cell_type": "code",
   "execution_count": 14,
   "metadata": {},
   "outputs": [
    {
     "data": {
      "text/plain": [
       "[<matplotlib.lines.Line2D at 0x2ba6d2eaa940>]"
      ]
     },
     "execution_count": 14,
     "metadata": {},
     "output_type": "execute_result"
    },
    {
     "data": {
      "image/png": "[encoded data removed]",
      "text/plain": [
       "<matplotlib.figure.Figure at 0x2ba6d234f518>"
      ]
     },
     "metadata": {},
     "output_type": "display_data"
    }
   ],
   "source": [
    "plt.plot(fm[\"TARGET_RA\"],fm[\"TARGET_DEC\"],'b.')"
   ]
  },
  {
   "cell_type": "markdown",
   "metadata": {},
   "source": [
    "You can see a different density in different parts of the tiles, due to different overlapping exposures.  Let's repeat, color coding by exposure number."
   ]
  },
  {
   "cell_type": "code",
   "execution_count": 15,
   "metadata": {},
   "outputs": [
    {
     "name": "stdout",
     "output_type": "stream",
     "text": [
      "expid 32 includes 89 targets\n",
      "expid 33 includes 89 targets\n",
      "expid 6 includes 499 targets\n",
      "expid 9 includes 283 targets\n",
      "expid 10 includes 283 targets\n",
      "expid 19 includes 10 targets\n",
      "expid 20 includes 10 targets\n"
     ]
    },
    {
     "data": {
      "image/png": "[encoded data removed]",
      "text/plain": [
       "<matplotlib.figure.Figure at 0x2ba6d234cc88>"
      ]
     },
     "metadata": {},
     "output_type": "display_data"
    }
   ],
   "source": [
    "for expid in set(fm['EXPID']):\n",
    "    ii = (fm['EXPID'] == expid)\n",
    "    print('expid {} includes {} targets'.format(expid, np.count_nonzero(ii)))\n",
    "    plot(fm['TARGET_RA'][ii], fm['TARGET_DEC'][ii], '.')"
   ]
  },
  {
   "cell_type": "markdown",
   "metadata": {},
   "source": [
    "Note that in addition to having multiple tiles, we also have multiple exposures of the same tile resulting in multiple spectra of the same targets."
   ]
  },
  {
   "cell_type": "code",
   "execution_count": 16,
   "metadata": {},
   "outputs": [
    {
     "data": {
      "text/plain": [
       "\n",
       "  file: /global/cscratch1/sd/sjbailey/desi/dev/end2end/spectro/redux/mini/spectra-64/52/5263/spectra-64-5263.fits\n",
       "  mode: READONLY\n",
       "  extnum hdutype         hduname[v]\n",
       "  0      IMAGE_HDU       \n",
       "  1      BINARY_TBL      FIBERMAP\n",
       "  2      BINARY_TBL      SCORES\n",
       "  3      IMAGE_HDU       B_WAVELENGTH\n",
       "  4      IMAGE_HDU       B_FLUX\n",
       "  5      IMAGE_HDU       B_IVAR\n",
       "  6      IMAGE_HDU       B_MASK\n",
       "  7      IMAGE_HDU       B_RESOLUTION\n",
       "  8      IMAGE_HDU       R_WAVELENGTH\n",
       "  9      IMAGE_HDU       R_FLUX\n",
       "  10     IMAGE_HDU       R_IVAR\n",
       "  11     IMAGE_HDU       R_MASK\n",
       "  12     IMAGE_HDU       R_RESOLUTION\n",
       "  13     IMAGE_HDU       Z_WAVELENGTH\n",
       "  14     IMAGE_HDU       Z_FLUX\n",
       "  15     IMAGE_HDU       Z_IVAR\n",
       "  16     IMAGE_HDU       Z_MASK\n",
       "  17     IMAGE_HDU       Z_RESOLUTION"
      ]
     },
     "execution_count": 16,
     "metadata": {},
     "output_type": "execute_result"
    }
   ],
   "source": [
    "DM"
   ]
  },
  {
   "cell_type": "markdown",
   "metadata": {},
   "source": [
    "The remaining extensions store the wavelength, flux, inverse variance on the flux, mask and resolution matrix for the B, R and Z arms of the spectrograph. Let's determine the wavelength coverage of each spectrograph:"
   ]
  },
  {
   "cell_type": "code",
   "execution_count": 17,
   "metadata": {},
   "outputs": [
    {
     "name": "stdout",
     "output_type": "stream",
     "text": [
      "B coverage: 3569.3 to 5948.5 Angstroms\n",
      "R coverage: 5625.3 to 7740.5 Angstroms\n",
      "Z coverage: 7435.3 to 9833.7 Angstroms\n"
     ]
    }
   ],
   "source": [
    "bwave = fitsio.read(specfilename, 'B_WAVELENGTH')\n",
    "rwave = fitsio.read(specfilename, 'R_WAVELENGTH')\n",
    "zwave = fitsio.read(specfilename, 'Z_WAVELENGTH')\n",
    "print(\"B coverage: {:.1f} to {:.1f} Angstroms\".format(np.min(bwave),np.max(bwave)))\n",
    "print(\"R coverage: {:.1f} to {:.1f} Angstroms\".format(np.min(rwave),np.max(rwave)))\n",
    "print(\"Z coverage: {:.1f} to {:.1f} Angstroms\".format(np.min(zwave),np.max(zwave)))"
   ]
  },
  {
   "cell_type": "markdown",
   "metadata": {},
   "source": [
    "## Reading in and Displaying spectra"
   ]
  },
  {
   "cell_type": "markdown",
   "metadata": {},
   "source": [
    "Now that we understand the Data Model, let's plot some spectra. To start, let's use the file we've already been manipulating and read in the flux to go with the wavelengths we already have."
   ]
  },
  {
   "cell_type": "code",
   "execution_count": 18,
   "metadata": {},
   "outputs": [],
   "source": [
    "bflux = fitsio.read(specfilename,'B_FLUX')\n",
    "rflux = fitsio.read(specfilename,'R_FLUX')\n",
    "zflux = fitsio.read(specfilename,'Z_FLUX')"
   ]
  },
  {
   "cell_type": "markdown",
   "metadata": {},
   "source": [
    "Note that the wavelength arrays are 1-D (every spectrum in the spectral file is mapped to the same binning in wavelength) but the flux array (and flux_ivar, mask etc. arrays) are 2-D, because they contain multiple spectra:"
   ]
  },
  {
   "cell_type": "code",
   "execution_count": 19,
   "metadata": {},
   "outputs": [
    {
     "name": "stdout",
     "output_type": "stream",
     "text": [
      "(2975,)\n",
      "(1263, 2975)\n"
     ]
    }
   ],
   "source": [
    "print(bwave.shape)\n",
    "print(bflux.shape)"
   ]
  },
  {
   "cell_type": "markdown",
   "metadata": {},
   "source": [
    "Let's plot the zeroth spectrum in this file (*i.e.* in this HEALPix grouping):"
   ]
  },
  {
   "cell_type": "code",
   "execution_count": 20,
   "metadata": {},
   "outputs": [
    {
     "data": {
      "text/plain": [
       "[<matplotlib.lines.Line2D at 0x2ba6d2fb2ef0>]"
      ]
     },
     "execution_count": 20,
     "metadata": {},
     "output_type": "execute_result"
    },
    {
     "data": {
      "image/png": "[encoded data removed]",
      "text/plain": [
       "<matplotlib.figure.Figure at 0x2ba6d2f75198>"
      ]
     },
     "metadata": {},
     "output_type": "display_data"
    }
   ],
   "source": [
    "spectrum = 0\n",
    "plt.plot(bwave,bflux[spectrum], 'b', alpha=0.5)\n",
    "plt.plot(rwave,rflux[spectrum], 'r', alpha=0.5)\n",
    "plt.plot(zwave,zflux[spectrum], 'k', alpha=0.5)"
   ]
  },
  {
   "cell_type": "markdown",
   "metadata": {},
   "source": [
    "## A DESI-specific spectrum reader\n",
    "\n",
    "Note that, for illustrative purposes, we discussed the Data Model in detail and read in the required files individually from that Data Model. But, the DESI data team has also developed standalone functions in `desispec.io` to facilitate reading in the plethora of information in the spectral files. For example:"
   ]
  },
  {
   "cell_type": "code",
   "execution_count": 21,
   "metadata": {},
   "outputs": [],
   "source": [
    "specobj = desispec.io.read_spectra(specfilename)"
   ]
  },
  {
   "cell_type": "markdown",
   "metadata": {},
   "source": [
    "The wavelengths and flux in each band are then available as dictionaries in the `wave` and `flux` attributes:"
   ]
  },
  {
   "cell_type": "code",
   "execution_count": 22,
   "metadata": {},
   "outputs": [
    {
     "data": {
      "text/plain": [
       "{'b': array([ 3569.3,  3570.1,  3570.9, ...,  5946.9,  5947.7,  5948.5]),\n",
       " 'r': array([ 5625.3,  5626.1,  5626.9, ...,  7738.9,  7739.7,  7740.5]),\n",
       " 'z': array([ 7435.3,  7436.1,  7436.9, ...,  9832.1,  9832.9,  9833.7])}"
      ]
     },
     "execution_count": 22,
     "metadata": {},
     "output_type": "execute_result"
    }
   ],
   "source": [
    "specobj.wave"
   ]
  },
  {
   "cell_type": "code",
   "execution_count": 23,
   "metadata": {},
   "outputs": [
    {
     "data": {
      "text/plain": [
       "{'b': array([[-6.64872408,  3.14101744,  9.82381344, ..., -2.35037231,\n",
       "          8.03058147, -3.16293144],\n",
       "        [-6.71417952, -3.45714545,  7.22698212, ...,  8.31398296,\n",
       "          6.43440723, -1.78739214],\n",
       "        [ 4.25542164,  1.69862258, -7.50513554, ...,  4.03255081,\n",
       "          1.24426091,  2.87726545],\n",
       "        ..., \n",
       "        [-5.05121756, -1.16834247,  8.61157227, ..., -2.63324261,\n",
       "         -3.09332013, -2.5905354 ],\n",
       "        [ 6.26655293, -6.20334673, -4.87131977, ...,  2.71481466,\n",
       "          2.91518688, -1.72615635],\n",
       "        [-2.62447405, -3.49718618,  8.24850845, ...,  2.50670099,\n",
       "         -3.67323208, -2.80622816]]),\n",
       " 'r': array([[  9.47572327,   5.04021263, -10.41016197, ...,  -1.37862384,\n",
       "          -2.53058553,   1.53894639],\n",
       "        [ -1.56116164,  -7.83818388,   9.1223526 , ...,  -2.86852884,\n",
       "           2.08716822,  -1.89519358],\n",
       "        [  1.36921895,  11.81165028, -12.75828171, ...,   0.30189255,\n",
       "           0.29254627,   0.13099791],\n",
       "        ..., \n",
       "        [  0.55509925,   0.70693225, -12.92432785, ...,   2.9615376 ,\n",
       "           2.80698299,  -0.5583359 ],\n",
       "        [ -1.37998426,  -1.61781442,  -0.16512294, ...,   5.47252655,\n",
       "           1.23785138,  -1.93541908],\n",
       "        [  0.27417547,   5.04140282,   5.95112801, ...,  -0.91028512,\n",
       "          -2.67345953,  -0.53495717]]),\n",
       " 'z': array([[ 3.36512733, -2.6337626 , -6.04847717, ...,  0.98696244,\n",
       "         -0.4367542 , -0.35178646],\n",
       "        [ 3.72503662, -0.86247426,  2.30176115, ..., -1.00114584,\n",
       "         -0.84084237, -0.06368761],\n",
       "        [ 2.43242455, -3.29741144, -2.12149358, ..., -0.51414907,\n",
       "          0.37124816, -0.13521335],\n",
       "        ..., \n",
       "        [ 0.79350489, -4.32076311, -4.44344425, ...,  1.04978967,\n",
       "         -0.10802149, -0.26371205],\n",
       "        [ 0.74815965, -8.61720562,  4.44618177, ...,  0.57272714,\n",
       "          0.96775138,  0.70042473],\n",
       "        [-4.41835451,  4.0924468 , -2.53828812, ...,  0.25770962,\n",
       "          0.52497768,  0.36148092]])}"
      ]
     },
     "execution_count": 23,
     "metadata": {},
     "output_type": "execute_result"
    }
   ],
   "source": [
    "specobj.flux"
   ]
  },
  {
   "cell_type": "markdown",
   "metadata": {},
   "source": [
    "So, to plot the \"zeroth\" spectrum:"
   ]
  },
  {
   "cell_type": "code",
   "execution_count": 24,
   "metadata": {},
   "outputs": [
    {
     "data": {
      "text/plain": [
       "[<matplotlib.lines.Line2D at 0x2ba6d726d2e8>]"
      ]
     },
     "execution_count": 24,
     "metadata": {},
     "output_type": "execute_result"
    },
    {
     "data": {
      "image/png": "[encoded data removed]",
      "text/plain": [
       "<matplotlib.figure.Figure at 0x2ba6d2fddba8>"
      ]
     },
     "metadata": {},
     "output_type": "display_data"
    }
   ],
   "source": [
    "spectrum = 0\n",
    "plt.plot(specobj.wave[\"b\"],specobj.flux[\"b\"][spectrum],color='b', alpha=0.5)\n",
    "plt.plot(specobj.wave[\"r\"],specobj.flux[\"r\"][spectrum],color='r', alpha=0.5)\n",
    "plt.plot(specobj.wave[\"z\"],specobj.flux[\"z\"][spectrum],color='k', alpha=0.5)"
   ]
  },
  {
   "cell_type": "markdown",
   "metadata": {},
   "source": [
    "which should look very similar to one of the first plots we made earlier in the tutorial. "
   ]
  },
  {
   "cell_type": "markdown",
   "metadata": {},
   "source": [
    "The fibermap information is available as a table in the `fibermap` attribute:"
   ]
  },
  {
   "cell_type": "code",
   "execution_count": 25,
   "metadata": {},
   "outputs": [
    {
     "data": {
      "text/html": [
       "&lt;Table length=1263&gt;\n",
       "<table id=\"table47995574330928\" class=\"table-striped table-bordered table-condensed\">\n",
       "<thead><tr><th>TARGETID</th><th>DESI_TARGET</th><th>BGS_TARGET</th><th>MWS_TARGET</th><th>SECONDARY_TARGET</th><th>TARGET_RA</th><th>TARGET_DEC</th><th>TARGET_RA_IVAR</th><th>TARGET_DEC_IVAR</th><th>BRICKID</th><th>BRICK_OBJID</th><th>MORPHTYPE</th><th>PRIORITY</th><th>SUBPRIORITY</th><th>REF_ID</th><th>PMRA</th><th>PMDEC</th><th>PMRA_IVAR</th><th>PMDEC_IVAR</th><th>FLUX_G</th><th>FLUX_R</th><th>FLUX_Z</th><th>FLUX_W1</th><th>FLUX_W2</th><th>FLUX_IVAR_G</th><th>FLUX_IVAR_R</th><th>FLUX_IVAR_Z</th><th>FLUX_IVAR_W1</th><th>FLUX_IVAR_W2</th><th>FIBERFLUX_G</th><th>FIBERFLUX_R</th><th>FIBERFLUX_Z</th><th>FIBERFLUX_W1</th><th>FIBERFLUX_W2</th><th>FIBERTOTFLUX_G</th><th>FIBERTOTFLUX_R</th><th>FIBERTOTFLUX_Z</th><th>FIBERTOTFLUX_W1</th><th>FIBERTOTFLUX_W2</th><th>MW_TRANSMISSION_G</th><th>MW_TRANSMISSION_R</th><th>MW_TRANSMISSION_Z</th><th>EBV</th><th>PHOTSYS</th><th>FIBER</th><th>PETAL_LOC</th><th>DEVICE_LOC</th><th>LOCATION</th><th>FIBERSTATUS</th><th>OBJTYPE</th><th>LAMBDA_REF</th><th>DESIGN_X</th><th>DESIGN_Y</th><th>DESIGN_Q</th><th>DESIGN_S</th><th>NUMTARGET</th><th>FIBER_RA</th><th>FIBER_DEC</th><th>FIBER_RA_IVAR</th><th>FIBER_DEC_IVAR</th><th>DELTA_X</th><th>DELTA_Y</th><th>DELTA_X_IVAR</th><th>DELTA_Y_IVAR</th><th>NUM_ITER</th><th>SPECTROID</th><th>BRICKNAME</th><th>LAMBDAREF</th><th>NIGHT</th><th>EXPID</th><th>TILEID</th></tr></thead>\n",
       "<thead><tr><th>int64</th><th>int64</th><th>int64</th><th>int64</th><th>int64</th><th>float64</th><th>float64</th><th>float64</th><th>float64</th><th>int64</th><th>int64</th><th>bytes4</th><th>int32</th><th>float64</th><th>int64</th><th>float32</th><th>float32</th><th>float32</th><th>float32</th><th>float32</th><th>float32</th><th>float32</th><th>float32</th><th>float32</th><th>float32</th><th>float32</th><th>float32</th><th>float32</th><th>float32</th><th>float32</th><th>float32</th><th>float32</th><th>float32</th><th>float32</th><th>float32</th><th>float32</th><th>float32</th><th>float32</th><th>float32</th><th>float32</th><th>float32</th><th>float32</th><th>float32</th><th>bytes1</th><th>int32</th><th>int32</th><th>int32</th><th>int32</th><th>int32</th><th>bytes3</th><th>float32</th><th>float32</th><th>float32</th><th>float32</th><th>float32</th><th>int16</th><th>float64</th><th>float64</th><th>float32</th><th>float32</th><th>float32</th><th>float32</th><th>float32</th><th>float32</th><th>int32</th><th>int32</th><th>bytes8</th><th>float64</th><th>int32</th><th>int32</th><th>int32</th></tr></thead>\n",
       "<tr><td>-1</td><td>0</td><td>0</td><td>0</td><td>0</td><td>151.83942866</td><td>29.7821228969</td><td>0.0</td><td>0.0</td><td>0</td><td>0</td><td></td><td>0</td><td>0.0</td><td>0</td><td>0.0</td><td>0.0</td><td>0.0</td><td>0.0</td><td>0.0</td><td>0.0</td><td>0.0</td><td>0.0</td><td>0.0</td><td>0.0</td><td>0.0</td><td>0.0</td><td>0.0</td><td>0.0</td><td>0.0</td><td>0.0</td><td>0.0</td><td>0.0</td><td>0.0</td><td>0.0</td><td>0.0</td><td>0.0</td><td>0.0</td><td>0.0</td><td>0.999</td><td>0.999</td><td>0.999</td><td>0.001</td><td>S</td><td>0</td><td>0</td><td>95</td><td>95</td><td>0</td><td>TGT</td><td>5400.0</td><td>-4.13464</td><td>-176.016</td><td>0.0</td><td>0.0</td><td>0</td><td>151.83942866</td><td>29.7821228969</td><td>0.0</td><td>0.0</td><td>0.0</td><td>0.0</td><td>0.0</td><td>0.0</td><td>2</td><td>0</td><td>notbrick</td><td>5400.0</td><td>20200316</td><td>6</td><td>34170</td></tr>\n",
       "<tr><td>-1</td><td>0</td><td>0</td><td>0</td><td>0</td><td>152.046066567</td><td>29.7081539203</td><td>0.0</td><td>0.0</td><td>0</td><td>0</td><td></td><td>0</td><td>0.0</td><td>0</td><td>0.0</td><td>0.0</td><td>0.0</td><td>0.0</td><td>0.0</td><td>0.0</td><td>0.0</td><td>0.0</td><td>0.0</td><td>0.0</td><td>0.0</td><td>0.0</td><td>0.0</td><td>0.0</td><td>0.0</td><td>0.0</td><td>0.0</td><td>0.0</td><td>0.0</td><td>0.0</td><td>0.0</td><td>0.0</td><td>0.0</td><td>0.0</td><td>0.999</td><td>0.999</td><td>0.999</td><td>0.001</td><td>S</td><td>2</td><td>0</td><td>102</td><td>102</td><td>0</td><td>TGT</td><td>5400.0</td><td>-48.2647</td><td>-194.587</td><td>0.0</td><td>0.0</td><td>0</td><td>152.046066567</td><td>29.7081539203</td><td>0.0</td><td>0.0</td><td>0.0</td><td>0.0</td><td>0.0</td><td>0.0</td><td>2</td><td>0</td><td>notbrick</td><td>5400.0</td><td>20200316</td><td>6</td><td>34170</td></tr>\n",
       "<tr><td>-1</td><td>0</td><td>0</td><td>0</td><td>0</td><td>151.968420693</td><td>29.7957919157</td><td>0.0</td><td>0.0</td><td>0</td><td>0</td><td></td><td>0</td><td>0.0</td><td>0</td><td>0.0</td><td>0.0</td><td>0.0</td><td>0.0</td><td>0.0</td><td>0.0</td><td>0.0</td><td>0.0</td><td>0.0</td><td>0.0</td><td>0.0</td><td>0.0</td><td>0.0</td><td>0.0</td><td>0.0</td><td>0.0</td><td>0.0</td><td>0.0</td><td>0.0</td><td>0.0</td><td>0.0</td><td>0.0</td><td>0.0</td><td>0.0</td><td>0.999</td><td>0.999</td><td>0.999</td><td>0.001</td><td>S</td><td>3</td><td>0</td><td>82</td><td>82</td><td>0</td><td>TGT</td><td>5400.0</td><td>-31.5796</td><td>-172.635</td><td>0.0</td><td>0.0</td><td>0</td><td>151.968420693</td><td>29.7957919157</td><td>0.0</td><td>0.0</td><td>0.0</td><td>0.0</td><td>0.0</td><td>0.0</td><td>2</td><td>0</td><td>notbrick</td><td>5400.0</td><td>20200316</td><td>6</td><td>34170</td></tr>\n",
       "<tr><td>-1</td><td>0</td><td>0</td><td>0</td><td>0</td><td>151.788761094</td><td>29.6807741149</td><td>0.0</td><td>0.0</td><td>0</td><td>0</td><td></td><td>0</td><td>0.0</td><td>0</td><td>0.0</td><td>0.0</td><td>0.0</td><td>0.0</td><td>0.0</td><td>0.0</td><td>0.0</td><td>0.0</td><td>0.0</td><td>0.0</td><td>0.0</td><td>0.0</td><td>0.0</td><td>0.0</td><td>0.0</td><td>0.0</td><td>0.0</td><td>0.0</td><td>0.0</td><td>0.0</td><td>0.0</td><td>0.0</td><td>0.0</td><td>0.0</td><td>0.999</td><td>0.999</td><td>0.999</td><td>0.001</td><td>S</td><td>4</td><td>0</td><td>131</td><td>131</td><td>0</td><td>TGT</td><td>5400.0</td><td>6.67201</td><td>-201.386</td><td>0.0</td><td>0.0</td><td>0</td><td>151.788761094</td><td>29.6807741149</td><td>0.0</td><td>0.0</td><td>0.0</td><td>0.0</td><td>0.0</td><td>0.0</td><td>2</td><td>0</td><td>notbrick</td><td>5400.0</td><td>20200316</td><td>6</td><td>34170</td></tr>\n",
       "<tr><td>288230398226334916</td><td>1152921504606846976</td><td>131586</td><td>0</td><td>0</td><td>151.755325317</td><td>29.7493343353</td><td>0.0</td><td>0.0</td><td>0</td><td>0</td><td></td><td>0</td><td>0.0</td><td>0</td><td>0.0</td><td>0.0</td><td>0.0</td><td>0.0</td><td>17.047</td><td>21.4632</td><td>23.2226</td><td>15.8109</td><td>10.9526</td><td>0.0</td><td>0.0</td><td>0.0</td><td>0.0</td><td>0.0</td><td>0.0</td><td>0.0</td><td>0.0</td><td>0.0</td><td>0.0</td><td>0.0</td><td>0.0</td><td>0.0</td><td>0.0</td><td>0.0</td><td>0.999</td><td>0.999</td><td>0.999</td><td>0.001</td><td>S</td><td>5</td><td>0</td><td>108</td><td>108</td><td>0</td><td>TGT</td><td>5400.0</td><td>13.7797</td><td>-184.207</td><td>0.0</td><td>0.0</td><td>0</td><td>151.755325317</td><td>29.7493343353</td><td>0.0</td><td>0.0</td><td>0.0</td><td>0.0</td><td>0.0</td><td>0.0</td><td>2</td><td>0</td><td>1516p297</td><td>5400.0</td><td>20200316</td><td>6</td><td>34170</td></tr>\n",
       "<tr><td>288230398226337694</td><td>2305843009213693952</td><td>0</td><td>49</td><td>0</td><td>151.75253994</td><td>29.710548801</td><td>0.0</td><td>0.0</td><td>0</td><td>0</td><td></td><td>0</td><td>0.0</td><td>0</td><td>0.0</td><td>0.0</td><td>0.0</td><td>0.0</td><td>13.4144</td><td>45.4659</td><td>353.031</td><td>378.332</td><td>232.137</td><td>0.0</td><td>0.0</td><td>0.0</td><td>0.0</td><td>0.0</td><td>0.0</td><td>0.0</td><td>0.0</td><td>0.0</td><td>0.0</td><td>0.0</td><td>0.0</td><td>0.0</td><td>0.0</td><td>0.0</td><td>0.999</td><td>0.999</td><td>0.999</td><td>0.001</td><td>S</td><td>6</td><td>0</td><td>119</td><td>119</td><td>0</td><td>TGT</td><td>5400.0</td><td>14.393</td><td>-193.917</td><td>0.0</td><td>0.0</td><td>0</td><td>151.75253994</td><td>29.710548801</td><td>0.0</td><td>0.0</td><td>0.0</td><td>0.0</td><td>0.0</td><td>0.0</td><td>2</td><td>0</td><td>1516p297</td><td>5400.0</td><td>20200316</td><td>6</td><td>34170</td></tr>\n",
       "<tr><td>288230398226337949</td><td>2305843009213693952</td><td>0</td><td>2</td><td>0</td><td>151.939240064</td><td>29.8593796642</td><td>0.0</td><td>0.0</td><td>0</td><td>0</td><td></td><td>0</td><td>0.0</td><td>0</td><td>0.0</td><td>0.0</td><td>0.0</td><td>0.0</td><td>17.2894</td><td>12.2711</td><td>7.17995</td><td>0.760724</td><td>0.410643</td><td>0.0</td><td>0.0</td><td>0.0</td><td>0.0</td><td>0.0</td><td>0.0</td><td>0.0</td><td>0.0</td><td>0.0</td><td>0.0</td><td>0.0</td><td>0.0</td><td>0.0</td><td>0.0</td><td>0.0</td><td>0.999</td><td>0.999</td><td>0.999</td><td>0.001</td><td>S</td><td>7</td><td>0</td><td>64</td><td>64</td><td>0</td><td>TGT</td><td>5400.0</td><td>-25.3166</td><td>-156.817</td><td>0.0</td><td>0.0</td><td>0</td><td>151.939240064</td><td>29.8593796642</td><td>0.0</td><td>0.0</td><td>0.0</td><td>0.0</td><td>0.0</td><td>0.0</td><td>2</td><td>0</td><td>1519p297</td><td>5400.0</td><td>20200316</td><td>6</td><td>34170</td></tr>\n",
       "<tr><td>288230398226334974</td><td>1152921504606846976</td><td>131586</td><td>0</td><td>0</td><td>151.995117188</td><td>29.836397171</td><td>0.0</td><td>0.0</td><td>0</td><td>0</td><td></td><td>0</td><td>0.0</td><td>0</td><td>0.0</td><td>0.0</td><td>0.0</td><td>0.0</td><td>68.1911</td><td>171.578</td><td>319.192</td><td>556.558</td><td>521.958</td><td>0.0</td><td>0.0</td><td>0.0</td><td>0.0</td><td>0.0</td><td>0.0</td><td>0.0</td><td>0.0</td><td>0.0</td><td>0.0</td><td>0.0</td><td>0.0</td><td>0.0</td><td>0.0</td><td>0.0</td><td>0.999</td><td>0.999</td><td>0.999</td><td>0.001</td><td>S</td><td>8</td><td>0</td><td>72</td><td>72</td><td>0</td><td>TGT</td><td>5400.0</td><td>-37.2145</td><td>-162.541</td><td>0.0</td><td>0.0</td><td>0</td><td>151.995117188</td><td>29.836397171</td><td>0.0</td><td>0.0</td><td>0.0</td><td>0.0</td><td>0.0</td><td>0.0</td><td>2</td><td>0</td><td>1519p297</td><td>5400.0</td><td>20200316</td><td>6</td><td>34170</td></tr>\n",
       "<tr><td>288230398226335077</td><td>1152921504606846976</td><td>131586</td><td>0</td><td>0</td><td>151.698471069</td><td>29.67603302</td><td>0.0</td><td>0.0</td><td>0</td><td>0</td><td></td><td>0</td><td>0.0</td><td>0</td><td>0.0</td><td>0.0</td><td>0.0</td><td>0.0</td><td>6.52623</td><td>25.6602</td><td>59.3496</td><td>113.218</td><td>85.0264</td><td>0.0</td><td>0.0</td><td>0.0</td><td>0.0</td><td>0.0</td><td>0.0</td><td>0.0</td><td>0.0</td><td>0.0</td><td>0.0</td><td>0.0</td><td>0.0</td><td>0.0</td><td>0.0</td><td>0.0</td><td>0.999</td><td>0.999</td><td>0.999</td><td>0.001</td><td>S</td><td>9</td><td>0</td><td>145</td><td>145</td><td>0</td><td>TGT</td><td>5400.0</td><td>25.9652</td><td>-202.599</td><td>0.0</td><td>0.0</td><td>0</td><td>151.698471069</td><td>29.67603302</td><td>0.0</td><td>0.0</td><td>0.0</td><td>0.0</td><td>0.0</td><td>0.0</td><td>2</td><td>0</td><td>1516p297</td><td>5400.0</td><td>20200316</td><td>6</td><td>34170</td></tr>\n",
       "<tr><td>288230398226334903</td><td>1152921504606846976</td><td>65793</td><td>0</td><td>0</td><td>151.742355347</td><td>29.6987743378</td><td>0.0</td><td>0.0</td><td>0</td><td>0</td><td></td><td>0</td><td>0.0</td><td>0</td><td>0.0</td><td>0.0</td><td>0.0</td><td>0.0</td><td>3.51614</td><td>11.0405</td><td>25.327</td><td>58.6516</td><td>50.4761</td><td>0.0</td><td>0.0</td><td>0.0</td><td>0.0</td><td>0.0</td><td>0.0</td><td>0.0</td><td>0.0</td><td>0.0</td><td>0.0</td><td>0.0</td><td>0.0</td><td>0.0</td><td>0.0</td><td>0.0</td><td>0.999</td><td>0.999</td><td>0.999</td><td>0.001</td><td>S</td><td>10</td><td>0</td><td>132</td><td>132</td><td>0</td><td>TGT</td><td>5400.0</td><td>16.5734</td><td>-196.873</td><td>0.0</td><td>0.0</td><td>0</td><td>151.742355347</td><td>29.6987743378</td><td>0.0</td><td>0.0</td><td>0.0</td><td>0.0</td><td>0.0</td><td>0.0</td><td>2</td><td>0</td><td>1516p297</td><td>5400.0</td><td>20200316</td><td>6</td><td>34170</td></tr>\n",
       "<tr><td>...</td><td>...</td><td>...</td><td>...</td><td>...</td><td>...</td><td>...</td><td>...</td><td>...</td><td>...</td><td>...</td><td>...</td><td>...</td><td>...</td><td>...</td><td>...</td><td>...</td><td>...</td><td>...</td><td>...</td><td>...</td><td>...</td><td>...</td><td>...</td><td>...</td><td>...</td><td>...</td><td>...</td><td>...</td><td>...</td><td>...</td><td>...</td><td>...</td><td>...</td><td>...</td><td>...</td><td>...</td><td>...</td><td>...</td><td>...</td><td>...</td><td>...</td><td>...</td><td>...</td><td>...</td><td>...</td><td>...</td><td>...</td><td>...</td><td>...</td><td>...</td><td>...</td><td>...</td><td>...</td><td>...</td><td>...</td><td>...</td><td>...</td><td>...</td><td>...</td><td>...</td><td>...</td><td>...</td><td>...</td><td>...</td><td>...</td><td>...</td><td>...</td><td>...</td><td>...</td><td>...</td></tr>\n",
       "<tr><td>288230398226338807</td><td>4294967296</td><td>0</td><td>0</td><td>0</td><td>151.926483154</td><td>29.9415779114</td><td>0.0</td><td>0.0</td><td>0</td><td>0</td><td></td><td>0</td><td>0.0</td><td>0</td><td>0.0</td><td>0.0</td><td>0.0</td><td>0.0</td><td>0.0</td><td>0.0</td><td>0.0</td><td>0.0</td><td>0.0</td><td>0.0</td><td>0.0</td><td>0.0</td><td>0.0</td><td>0.0</td><td>0.0</td><td>0.0</td><td>0.0</td><td>0.0</td><td>0.0</td><td>0.0</td><td>0.0</td><td>0.0</td><td>0.0</td><td>0.0</td><td>0.999</td><td>0.999</td><td>0.999</td><td>0.001</td><td>S</td><td>371</td><td>0</td><td>323</td><td>323</td><td>0</td><td>SKY</td><td>5400.0</td><td>7.25343</td><td>-316.753</td><td>0.0</td><td>0.0</td><td>0</td><td>151.926483154</td><td>29.9415779114</td><td>0.0</td><td>0.0</td><td>0.0</td><td>0.0</td><td>0.0</td><td>0.0</td><td>2</td><td>0</td><td>1519p300</td><td>5400.0</td><td>20200324</td><td>33</td><td>16870</td></tr>\n",
       "<tr><td>288230398226336817</td><td>570491153</td><td>0</td><td>0</td><td>0</td><td>151.863922119</td><td>29.9505672455</td><td>0.0</td><td>0.0</td><td>0</td><td>0</td><td></td><td>0</td><td>0.0</td><td>0</td><td>0.0</td><td>0.0</td><td>0.0</td><td>0.0</td><td>0.123934</td><td>1.24603</td><td>8.86476</td><td>45.2432</td><td>29.7255</td><td>0.0</td><td>0.0</td><td>0.0</td><td>0.0</td><td>0.0</td><td>0.0</td><td>0.0</td><td>0.0</td><td>0.0</td><td>0.0</td><td>0.0</td><td>0.0</td><td>0.0</td><td>0.0</td><td>0.0</td><td>0.999</td><td>0.999</td><td>0.999</td><td>0.001</td><td>S</td><td>376</td><td>0</td><td>345</td><td>345</td><td>0</td><td>TGT</td><td>5400.0</td><td>20.7846</td><td>-314.412</td><td>0.0</td><td>0.0</td><td>0</td><td>151.863922119</td><td>29.9505672455</td><td>0.0</td><td>0.0</td><td>0.0</td><td>0.0</td><td>0.0</td><td>0.0</td><td>2</td><td>0</td><td>1519p300</td><td>5400.0</td><td>20200324</td><td>33</td><td>16870</td></tr>\n",
       "<tr><td>288230398226336880</td><td>263172</td><td>0</td><td>0</td><td>0</td><td>151.78692627</td><td>29.876455307</td><td>0.0</td><td>0.0</td><td>0</td><td>0</td><td></td><td>0</td><td>0.0</td><td>0</td><td>0.0</td><td>0.0</td><td>0.0</td><td>0.0</td><td>2.10122</td><td>2.46074</td><td>2.5945</td><td>3.98237</td><td>6.61758</td><td>0.0</td><td>0.0</td><td>0.0</td><td>0.0</td><td>0.0</td><td>0.0</td><td>0.0</td><td>0.0</td><td>0.0</td><td>0.0</td><td>0.0</td><td>0.0</td><td>0.0</td><td>0.0</td><td>0.0</td><td>0.999</td><td>0.999</td><td>0.999</td><td>0.001</td><td>S</td><td>378</td><td>0</td><td>388</td><td>388</td><td>0</td><td>TGT</td><td>5400.0</td><td>37.6005</td><td>-334.059</td><td>0.0</td><td>0.0</td><td>0</td><td>151.78692627</td><td>29.876455307</td><td>0.0</td><td>0.0</td><td>0.0</td><td>0.0</td><td>0.0</td><td>0.0</td><td>2</td><td>0</td><td>1519p300</td><td>5400.0</td><td>20200324</td><td>33</td><td>16870</td></tr>\n",
       "<tr><td>288230398226336543</td><td>131586</td><td>0</td><td>0</td><td>0</td><td>151.925140381</td><td>29.9170894623</td><td>0.0</td><td>0.0</td><td>0</td><td>0</td><td></td><td>0</td><td>0.0</td><td>0</td><td>0.0</td><td>0.0</td><td>0.0</td><td>0.0</td><td>0.3519</td><td>0.422804</td><td>0.983502</td><td>1.52948</td><td>1.26703</td><td>0.0</td><td>0.0</td><td>0.0</td><td>0.0</td><td>0.0</td><td>0.0</td><td>0.0</td><td>0.0</td><td>0.0</td><td>0.0</td><td>0.0</td><td>0.0</td><td>0.0</td><td>0.0</td><td>0.0</td><td>0.999</td><td>0.999</td><td>0.999</td><td>0.001</td><td>S</td><td>389</td><td>0</td><td>343</td><td>343</td><td>0</td><td>TGT</td><td>5400.0</td><td>7.55388</td><td>-323.21</td><td>0.0</td><td>0.0</td><td>0</td><td>151.925140381</td><td>29.9170894623</td><td>0.0</td><td>0.0</td><td>0.0</td><td>0.0</td><td>0.0</td><td>0.0</td><td>2</td><td>0</td><td>1519p300</td><td>5400.0</td><td>20200324</td><td>33</td><td>16870</td></tr>\n",
       "<tr><td>288230398226338966</td><td>4294967296</td><td>0</td><td>0</td><td>0</td><td>151.815994263</td><td>29.9213142395</td><td>0.0</td><td>0.0</td><td>0</td><td>0</td><td></td><td>0</td><td>0.0</td><td>0</td><td>0.0</td><td>0.0</td><td>0.0</td><td>0.0</td><td>0.0</td><td>0.0</td><td>0.0</td><td>0.0</td><td>0.0</td><td>0.0</td><td>0.0</td><td>0.0</td><td>0.0</td><td>0.0</td><td>0.0</td><td>0.0</td><td>0.0</td><td>0.0</td><td>0.0</td><td>0.0</td><td>0.0</td><td>0.0</td><td>0.0</td><td>0.0</td><td>0.999</td><td>0.999</td><td>0.999</td><td>0.001</td><td>S</td><td>394</td><td>0</td><td>366</td><td>366</td><td>0</td><td>SKY</td><td>5400.0</td><td>31.2057</td><td>-322.154</td><td>0.0</td><td>0.0</td><td>0</td><td>151.815994263</td><td>29.9213142395</td><td>0.0</td><td>0.0</td><td>0.0</td><td>0.0</td><td>0.0</td><td>0.0</td><td>2</td><td>0</td><td>1519p300</td><td>5400.0</td><td>20200324</td><td>33</td><td>16870</td></tr>\n",
       "<tr><td>288230398226336882</td><td>263172</td><td>0</td><td>0</td><td>0</td><td>152.152053833</td><td>29.683473587</td><td>0.0</td><td>0.0</td><td>0</td><td>0</td><td></td><td>0</td><td>0.0</td><td>0</td><td>0.0</td><td>0.0</td><td>0.0</td><td>0.0</td><td>6.70695</td><td>7.14694</td><td>9.3964</td><td>14.6792</td><td>23.7126</td><td>0.0</td><td>0.0</td><td>0.0</td><td>0.0</td><td>0.0</td><td>0.0</td><td>0.0</td><td>0.0</td><td>0.0</td><td>0.0</td><td>0.0</td><td>0.0</td><td>0.0</td><td>0.0</td><td>0.0</td><td>0.999</td><td>0.999</td><td>0.999</td><td>0.001</td><td>S</td><td>408</td><td>0</td><td>466</td><td>466</td><td>0</td><td>TGT</td><td>5400.0</td><td>-42.1985</td><td>-385.993</td><td>0.0</td><td>0.0</td><td>0</td><td>152.152053833</td><td>29.683473587</td><td>0.0</td><td>0.0</td><td>0.0</td><td>0.0</td><td>0.0</td><td>0.0</td><td>2</td><td>0</td><td>1522p297</td><td>5400.0</td><td>20200324</td><td>33</td><td>16870</td></tr>\n",
       "<tr><td>288230398226336318</td><td>131586</td><td>0</td><td>0</td><td>0</td><td>152.172241211</td><td>29.6251754761</td><td>0.0</td><td>0.0</td><td>0</td><td>0</td><td></td><td>0</td><td>0.0</td><td>0</td><td>0.0</td><td>0.0</td><td>0.0</td><td>0.0</td><td>0.506804</td><td>0.604503</td><td>1.4232</td><td>2.9456</td><td>2.02897</td><td>0.0</td><td>0.0</td><td>0.0</td><td>0.0</td><td>0.0</td><td>0.0</td><td>0.0</td><td>0.0</td><td>0.0</td><td>0.0</td><td>0.0</td><td>0.0</td><td>0.0</td><td>0.0</td><td>0.0</td><td>0.999</td><td>0.999</td><td>0.999</td><td>0.001</td><td>S</td><td>415</td><td>0</td><td>484</td><td>484</td><td>0</td><td>TGT</td><td>5400.0</td><td>-46.8082</td><td>-401.987</td><td>0.0</td><td>0.0</td><td>0</td><td>152.172241211</td><td>29.6251754761</td><td>0.0</td><td>0.0</td><td>0.0</td><td>0.0</td><td>0.0</td><td>0.0</td><td>2</td><td>0</td><td>1522p297</td><td>5400.0</td><td>20200324</td><td>33</td><td>16870</td></tr>\n",
       "<tr><td>288230398226336506</td><td>131074</td><td>0</td><td>0</td><td>0</td><td>152.144515991</td><td>29.6547737122</td><td>0.0</td><td>0.0</td><td>0</td><td>0</td><td></td><td>0</td><td>0.0</td><td>0</td><td>0.0</td><td>0.0</td><td>0.0</td><td>0.0</td><td>0.337467</td><td>0.440721</td><td>0.713185</td><td>1.50239</td><td>0.867351</td><td>0.0</td><td>0.0</td><td>0.0</td><td>0.0</td><td>0.0</td><td>0.0</td><td>0.0</td><td>0.0</td><td>0.0</td><td>0.0</td><td>0.0</td><td>0.0</td><td>0.0</td><td>0.0</td><td>0.0</td><td>0.999</td><td>0.999</td><td>0.999</td><td>0.001</td><td>S</td><td>440</td><td>0</td><td>485</td><td>485</td><td>0</td><td>TGT</td><td>5400.0</td><td>-40.6127</td><td>-393.822</td><td>0.0</td><td>0.0</td><td>0</td><td>152.144515991</td><td>29.6547737122</td><td>0.0</td><td>0.0</td><td>0.0</td><td>0.0</td><td>0.0</td><td>0.0</td><td>2</td><td>0</td><td>1522p297</td><td>5400.0</td><td>20200324</td><td>33</td><td>16870</td></tr>\n",
       "<tr><td>288230398226336671</td><td>285278473</td><td>0</td><td>0</td><td>0</td><td>152.238189697</td><td>29.6374416351</td><td>0.0</td><td>0.0</td><td>0</td><td>0</td><td></td><td>0</td><td>0.0</td><td>0</td><td>0.0</td><td>0.0</td><td>0.0</td><td>0.0</td><td>0.88023</td><td>4.47819</td><td>18.0207</td><td>49.5377</td><td>29.9298</td><td>0.0</td><td>0.0</td><td>0.0</td><td>0.0</td><td>0.0</td><td>0.0</td><td>0.0</td><td>0.0</td><td>0.0</td><td>0.0</td><td>0.0</td><td>0.0</td><td>0.0</td><td>0.0</td><td>0.0</td><td>0.999</td><td>0.999</td><td>0.999</td><td>0.001</td><td>S</td><td>445</td><td>0</td><td>483</td><td>483</td><td>0</td><td>TGT</td><td>5400.0</td><td>-61.33</td><td>-398.746</td><td>0.0</td><td>0.0</td><td>0</td><td>152.238189697</td><td>29.6374416351</td><td>0.0</td><td>0.0</td><td>0.0</td><td>0.0</td><td>0.0</td><td>0.0</td><td>2</td><td>0</td><td>1522p297</td><td>5400.0</td><td>20200324</td><td>33</td><td>16870</td></tr>\n",
       "<tr><td>288230398226336309</td><td>131586</td><td>0</td><td>0</td><td>0</td><td>152.132858276</td><td>29.7242107391</td><td>0.0</td><td>0.0</td><td>0</td><td>0</td><td></td><td>0</td><td>0.0</td><td>0</td><td>0.0</td><td>0.0</td><td>0.0</td><td>0.0</td><td>0.455782</td><td>0.573971</td><td>1.0358</td><td>1.67863</td><td>1.08938</td><td>0.0</td><td>0.0</td><td>0.0</td><td>0.0</td><td>0.0</td><td>0.0</td><td>0.0</td><td>0.0</td><td>0.0</td><td>0.0</td><td>0.0</td><td>0.0</td><td>0.0</td><td>0.0</td><td>0.0</td><td>0.999</td><td>0.999</td><td>0.999</td><td>0.001</td><td>S</td><td>449</td><td>0</td><td>446</td><td>446</td><td>0</td><td>TGT</td><td>5400.0</td><td>-37.8838</td><td>-374.893</td><td>0.0</td><td>0.0</td><td>0</td><td>152.132858276</td><td>29.7242107391</td><td>0.0</td><td>0.0</td><td>0.0</td><td>0.0</td><td>0.0</td><td>0.0</td><td>2</td><td>0</td><td>1522p297</td><td>5400.0</td><td>20200324</td><td>33</td><td>16870</td></tr>\n",
       "</table>"
      ],
      "text/plain": [
       "<Table length=1263>\n",
       "     TARGETID          DESI_TARGET     BGS_TARGET ...  NIGHT   EXPID TILEID\n",
       "      int64               int64          int64    ...  int32   int32 int32 \n",
       "------------------ ------------------- ---------- ... -------- ----- ------\n",
       "                -1                   0          0 ... 20200316     6  34170\n",
       "                -1                   0          0 ... 20200316     6  34170\n",
       "                -1                   0          0 ... 20200316     6  34170\n",
       "                -1                   0          0 ... 20200316     6  34170\n",
       "288230398226334916 1152921504606846976     131586 ... 20200316     6  34170\n",
       "288230398226337694 2305843009213693952          0 ... 20200316     6  34170\n",
       "288230398226337949 2305843009213693952          0 ... 20200316     6  34170\n",
       "288230398226334974 1152921504606846976     131586 ... 20200316     6  34170\n",
       "288230398226335077 1152921504606846976     131586 ... 20200316     6  34170\n",
       "288230398226334903 1152921504606846976      65793 ... 20200316     6  34170\n",
       "               ...                 ...        ... ...      ...   ...    ...\n",
       "288230398226338807          4294967296          0 ... 20200324    33  16870\n",
       "288230398226336817           570491153          0 ... 20200324    33  16870\n",
       "288230398226336880              263172          0 ... 20200324    33  16870\n",
       "288230398226336543              131586          0 ... 20200324    33  16870\n",
       "288230398226338966          4294967296          0 ... 20200324    33  16870\n",
       "288230398226336882              263172          0 ... 20200324    33  16870\n",
       "288230398226336318              131586          0 ... 20200324    33  16870\n",
       "288230398226336506              131074          0 ... 20200324    33  16870\n",
       "288230398226336671           285278473          0 ... 20200324    33  16870\n",
       "288230398226336309              131586          0 ... 20200324    33  16870"
      ]
     },
     "execution_count": 25,
     "metadata": {},
     "output_type": "execute_result"
    }
   ],
   "source": [
    "specobj.fibermap"
   ]
  },
  {
   "cell_type": "markdown",
   "metadata": {},
   "source": [
    "The entries with `TARGETID`=-1 are spectra for which the fiber was not assigned to a target, e.g. because that fiber was broken or because it randomly didn't cover any input targets (this latter case should never happen in the real survey).  There can also be multiple spectra for a single `TARGETID` from multiple exposures so there is a utility function for getting the `TARGETID`s in this file:"
   ]
  },
  {
   "cell_type": "code",
   "execution_count": 26,
   "metadata": {},
   "outputs": [
    {
     "data": {
      "text/html": [
       "&lt;Column name=&apos;TARGETID&apos; dtype=&apos;int64&apos; length=869&gt;\n",
       "<table>\n",
       "<tr><td>-1</td></tr>\n",
       "<tr><td>288230398226334916</td></tr>\n",
       "<tr><td>288230398226337694</td></tr>\n",
       "<tr><td>288230398226337949</td></tr>\n",
       "<tr><td>288230398226334974</td></tr>\n",
       "<tr><td>288230398226335077</td></tr>\n",
       "<tr><td>288230398226334903</td></tr>\n",
       "<tr><td>288230398226335095</td></tr>\n",
       "<tr><td>288230398226335131</td></tr>\n",
       "<tr><td>288230398226334825</td></tr>\n",
       "<tr><td>288230398226334876</td></tr>\n",
       "<tr><td>288230398226335058</td></tr>\n",
       "<tr><td>...</td></tr>\n",
       "<tr><td>288230398226336564</td></tr>\n",
       "<tr><td>288230398226336822</td></tr>\n",
       "<tr><td>288230398226336262</td></tr>\n",
       "<tr><td>288230398226336243</td></tr>\n",
       "<tr><td>288230398226336442</td></tr>\n",
       "<tr><td>288230398226338807</td></tr>\n",
       "<tr><td>288230398226336543</td></tr>\n",
       "<tr><td>288230398226336882</td></tr>\n",
       "<tr><td>288230398226336318</td></tr>\n",
       "<tr><td>288230398226336506</td></tr>\n",
       "<tr><td>288230398226336671</td></tr>\n",
       "<tr><td>288230398226336309</td></tr>\n",
       "</table>"
      ],
      "text/plain": [
       "<Column name='TARGETID' dtype='int64' length=869>\n",
       "                -1\n",
       "288230398226334916\n",
       "288230398226337694\n",
       "288230398226337949\n",
       "288230398226334974\n",
       "288230398226335077\n",
       "288230398226334903\n",
       "288230398226335095\n",
       "288230398226335131\n",
       "288230398226334825\n",
       "288230398226334876\n",
       "288230398226335058\n",
       "               ...\n",
       "288230398226336564\n",
       "288230398226336822\n",
       "288230398226336262\n",
       "288230398226336243\n",
       "288230398226336442\n",
       "288230398226338807\n",
       "288230398226336543\n",
       "288230398226336882\n",
       "288230398226336318\n",
       "288230398226336506\n",
       "288230398226336671\n",
       "288230398226336309"
      ]
     },
     "execution_count": 26,
     "metadata": {},
     "output_type": "execute_result"
    }
   ],
   "source": [
    "specobj.target_ids()"
   ]
  },
  {
   "cell_type": "markdown",
   "metadata": {},
   "source": [
    "There are also functions for getting the number of spectra and selecting a subset of spectra.  All of the information that could be read in from the different extensions of the spectral file can be retrieved from the `specobj` object. Here's what's available:"
   ]
  },
  {
   "cell_type": "code",
   "execution_count": 27,
   "metadata": {},
   "outputs": [
    {
     "data": {
      "text/plain": [
       "['R',\n",
       " '__class__',\n",
       " '__delattr__',\n",
       " '__dict__',\n",
       " '__dir__',\n",
       " '__doc__',\n",
       " '__eq__',\n",
       " '__format__',\n",
       " '__ge__',\n",
       " '__getattribute__',\n",
       " '__gt__',\n",
       " '__hash__',\n",
       " '__init__',\n",
       " '__init_subclass__',\n",
       " '__le__',\n",
       " '__lt__',\n",
       " '__module__',\n",
       " '__ne__',\n",
       " '__new__',\n",
       " '__reduce__',\n",
       " '__reduce_ex__',\n",
       " '__repr__',\n",
       " '__setattr__',\n",
       " '__sizeof__',\n",
       " '__str__',\n",
       " '__subclasshook__',\n",
       " '__weakref__',\n",
       " '_bands',\n",
       " '_ftype',\n",
       " '_single',\n",
       " 'bands',\n",
       " 'extra',\n",
       " 'fibermap',\n",
       " 'flux',\n",
       " 'ftype',\n",
       " 'ivar',\n",
       " 'mask',\n",
       " 'meta',\n",
       " 'num_spectra',\n",
       " 'num_targets',\n",
       " 'resolution_data',\n",
       " 'scores',\n",
       " 'select',\n",
       " 'target_ids',\n",
       " 'update',\n",
       " 'wave',\n",
       " 'wavelength_grid']"
      ]
     },
     "execution_count": 27,
     "metadata": {},
     "output_type": "execute_result"
    }
   ],
   "source": [
    "dir(specobj)"
   ]
  },
  {
   "cell_type": "markdown",
   "metadata": {},
   "source": [
    "## Target classes"
   ]
  },
  {
   "cell_type": "markdown",
   "metadata": {},
   "source": [
    "What about if we only want to plot spectra of certain target classes? The targeting information is stored in the `DESI_TARGET`, `BGS_TARGET` and `MWS_TARGET` entries of the fibermap array:"
   ]
  },
  {
   "cell_type": "code",
   "execution_count": 28,
   "metadata": {},
   "outputs": [
    {
     "data": {
      "text/plain": [
       "<Table length=1263>\n",
       "       name        dtype \n",
       "----------------- -------\n",
       "         TARGETID   int64\n",
       "      DESI_TARGET   int64\n",
       "       BGS_TARGET   int64\n",
       "       MWS_TARGET   int64\n",
       " SECONDARY_TARGET   int64\n",
       "        TARGET_RA float64\n",
       "       TARGET_DEC float64\n",
       "   TARGET_RA_IVAR float64\n",
       "  TARGET_DEC_IVAR float64\n",
       "          BRICKID   int64\n",
       "      BRICK_OBJID   int64\n",
       "        MORPHTYPE  bytes4\n",
       "         PRIORITY   int32\n",
       "      SUBPRIORITY float64\n",
       "           REF_ID   int64\n",
       "             PMRA float32\n",
       "            PMDEC float32\n",
       "        PMRA_IVAR float32\n",
       "       PMDEC_IVAR float32\n",
       "           FLUX_G float32\n",
       "           FLUX_R float32\n",
       "           FLUX_Z float32\n",
       "          FLUX_W1 float32\n",
       "          FLUX_W2 float32\n",
       "      FLUX_IVAR_G float32\n",
       "      FLUX_IVAR_R float32\n",
       "      FLUX_IVAR_Z float32\n",
       "     FLUX_IVAR_W1 float32\n",
       "     FLUX_IVAR_W2 float32\n",
       "      FIBERFLUX_G float32\n",
       "      FIBERFLUX_R float32\n",
       "      FIBERFLUX_Z float32\n",
       "     FIBERFLUX_W1 float32\n",
       "     FIBERFLUX_W2 float32\n",
       "   FIBERTOTFLUX_G float32\n",
       "   FIBERTOTFLUX_R float32\n",
       "   FIBERTOTFLUX_Z float32\n",
       "  FIBERTOTFLUX_W1 float32\n",
       "  FIBERTOTFLUX_W2 float32\n",
       "MW_TRANSMISSION_G float32\n",
       "MW_TRANSMISSION_R float32\n",
       "MW_TRANSMISSION_Z float32\n",
       "              EBV float32\n",
       "          PHOTSYS  bytes1\n",
       "            FIBER   int32\n",
       "        PETAL_LOC   int32\n",
       "       DEVICE_LOC   int32\n",
       "         LOCATION   int32\n",
       "      FIBERSTATUS   int32\n",
       "          OBJTYPE  bytes3\n",
       "       LAMBDA_REF float32\n",
       "         DESIGN_X float32\n",
       "         DESIGN_Y float32\n",
       "         DESIGN_Q float32\n",
       "         DESIGN_S float32\n",
       "        NUMTARGET   int16\n",
       "         FIBER_RA float64\n",
       "        FIBER_DEC float64\n",
       "    FIBER_RA_IVAR float32\n",
       "   FIBER_DEC_IVAR float32\n",
       "          DELTA_X float32\n",
       "          DELTA_Y float32\n",
       "     DELTA_X_IVAR float32\n",
       "     DELTA_Y_IVAR float32\n",
       "         NUM_ITER   int32\n",
       "        SPECTROID   int32\n",
       "        BRICKNAME  bytes8\n",
       "        LAMBDAREF float64\n",
       "            NIGHT   int32\n",
       "            EXPID   int32\n",
       "           TILEID   int32"
      ]
     },
     "execution_count": 28,
     "metadata": {},
     "output_type": "execute_result"
    }
   ],
   "source": [
    "specobj.fibermap.info"
   ]
  },
  {
   "cell_type": "markdown",
   "metadata": {},
   "source": [
    "and which target corresponds to which targeting bit is stored in the desitarget mask (we imported this near the beginning of the notebook)."
   ]
  },
  {
   "cell_type": "code",
   "execution_count": 29,
   "metadata": {},
   "outputs": [
    {
     "data": {
      "text/plain": [
       "desi_mask:\n",
       "  - [LRG,              0, \"LRG\", {'obsconditions': 'DARK', 'priorities': {'UNOBS': 3200, 'DONE': 2, 'OBS': 1, 'DONOTOBSERVE': 0, 'MORE_ZWARN': 3200, 'MORE_ZGOOD': 3200}, 'numobs': 2}]\n",
       "  - [ELG,              1, \"ELG\", {'obsconditions': 'DARK|GRAY', 'priorities': {'UNOBS': 3000, 'DONE': 2, 'OBS': 1, 'DONOTOBSERVE': 0, 'MORE_ZWARN': 3000, 'MORE_ZGOOD': 3000}, 'numobs': 1}]\n",
       "  - [QSO,              2, \"QSO\", {'obsconditions': 'DARK', 'priorities': {'UNOBS': 3400, 'MORE_ZGOOD': 3500, 'DONE': 2, 'OBS': 1, 'DONOTOBSERVE': 0, 'MORE_ZWARN': 3400}, 'numobs': 4}]\n",
       "  - [LRG_1PASS,        3, \"LRG observed in 1st pass\", {'obsconditions': 'DARK', 'priorities': {'UNOBS': 3200, 'DONE': 2, 'OBS': 1, 'DONOTOBSERVE': 0, 'MORE_ZWARN': 3200, 'MORE_ZGOOD': 3200}, 'numobs': 1}]\n",
       "  - [LRG_2PASS,        4, \"LRG observed in 2nd pass\", {'obsconditions': 'DARK', 'priorities': {'UNOBS': 3200, 'DONE': 2, 'OBS': 1, 'DONOTOBSERVE': 0, 'MORE_ZWARN': 3200, 'MORE_ZGOOD': 3200}, 'numobs': 2}]\n",
       "  - [LRG_NORTH,        8, \"LRG from Bok/Mosaic data\", {'obsconditions': 'DARK', 'priorities': {'UNOBS': 3200, 'DONE': 2, 'OBS': 1, 'DONOTOBSERVE': 0, 'MORE_ZWARN': 3200, 'MORE_ZGOOD': 3200}, 'numobs': 2}]\n",
       "  - [ELG_NORTH,        9, \"ELG from Bok/Mosaic data\", {'obsconditions': 'DARK|GRAY', 'priorities': {'UNOBS': 3000, 'DONE': 2, 'OBS': 1, 'DONOTOBSERVE': 0, 'MORE_ZWARN': 3000, 'MORE_ZGOOD': 3000}, 'numobs': 1}]\n",
       "  - [QSO_NORTH,       10, \"QSO from Bok/Mosaic data\", {'obsconditions': 'DARK', 'priorities': {'UNOBS': 3400, 'MORE_ZGOOD': 3500, 'DONE': 2, 'OBS': 1, 'DONOTOBSERVE': 0, 'MORE_ZWARN': 3400}, 'numobs': 4}]\n",
       "  - [LRG_SOUTH,       16, \"LRG from DECam data\", {'obsconditions': 'DARK', 'priorities': {'UNOBS': 3200, 'DONE': 2, 'OBS': 1, 'DONOTOBSERVE': 0, 'MORE_ZWARN': 3200, 'MORE_ZGOOD': 3200}, 'numobs': 2}]\n",
       "  - [ELG_SOUTH,       17, \"ELG from DECam data\", {'obsconditions': 'DARK|GRAY', 'priorities': {'UNOBS': 3000, 'DONE': 2, 'OBS': 1, 'DONOTOBSERVE': 0, 'MORE_ZWARN': 3000, 'MORE_ZGOOD': 3000}, 'numobs': 1}]\n",
       "  - [QSO_SOUTH,       18, \"QSO from DECam data\", {'obsconditions': 'DARK', 'priorities': {'UNOBS': 3400, 'MORE_ZGOOD': 3500, 'DONE': 2, 'OBS': 1, 'DONOTOBSERVE': 0, 'MORE_ZWARN': 3400}, 'numobs': 4}]\n",
       "  - [LRG_1PASS_NORTH, 24, \"LRG observed in 1st pass from Bok/Mosaic\", {'obsconditions': 'DARK', 'priorities': {'UNOBS': 3200, 'DONE': 2, 'OBS': 1, 'DONOTOBSERVE': 0, 'MORE_ZWARN': 3200, 'MORE_ZGOOD': 3200}, 'numobs': 1}]\n",
       "  - [LRG_2PASS_NORTH, 25, \"LRG observed in 2nd pass from Bok/Mosaic\", {'obsconditions': 'DARK', 'priorities': {'UNOBS': 3200, 'DONE': 2, 'OBS': 1, 'DONOTOBSERVE': 0, 'MORE_ZWARN': 3200, 'MORE_ZGOOD': 3200}, 'numobs': 2}]\n",
       "  - [LRG_1PASS_SOUTH, 28, \"LRG observed in 1st pass from DECam\", {'obsconditions': 'DARK', 'priorities': {'UNOBS': 3200, 'DONE': 2, 'OBS': 1, 'DONOTOBSERVE': 0, 'MORE_ZWARN': 3200, 'MORE_ZGOOD': 3200}, 'numobs': 1}]\n",
       "  - [LRG_2PASS_SOUTH, 29, \"LRG observed in 2nd pass from DECam\", {'obsconditions': 'DARK', 'priorities': {'UNOBS': 3200, 'DONE': 2, 'OBS': 1, 'DONOTOBSERVE': 0, 'MORE_ZWARN': 3200, 'MORE_ZGOOD': 3200}, 'numobs': 2}]\n",
       "  - [SKY,             32, \"Blank sky locations\", {'obsconditions': 'DARK|GRAY|BRIGHT|POOR|TWILIGHT12|TWILIGHT18', 'priorities': {}, 'numobs': -1}]\n",
       "  - [STD_FAINT,       33, \"Standard stars for dark/gray conditions\", {'obsconditions': 'DARK|GRAY', 'priorities': {}, 'numobs': -1}]\n",
       "  - [STD_WD,          34, \"White Dwarf stars\", {'obsconditions': 'DARK|GRAY|BRIGHT', 'priorities': {}, 'numobs': -1}]\n",
       "  - [STD_BRIGHT,      35, \"Standard stars for BRIGHT conditions\", {'obsconditions': 'BRIGHT', 'priorities': {}, 'numobs': -1}]\n",
       "  - [BAD_SKY,         36, \"Blank sky locations that are imperfect but still useable\", {'obsconditions': 'DARK|GRAY|BRIGHT|POOR|TWILIGHT12|TWILIGHT18', 'priorities': {'UNOBS': 0, 'OBS': 0, 'DONE': 0, 'MORE_ZWARN': 0, 'MORE_ZGOOD': 0, 'DONOTOBSERVE': 1}, 'numobs': 0}]\n",
       "  - [NO_TARGET,       49, \"No known target at this location\", {'obsconditions': 'DARK|GRAY|BRIGHT|POOR|TWILIGHT12|TWILIGHT18', 'priorities': {}, 'numobs': -1}]\n",
       "  - [BRIGHT_OBJECT,   50, \"Known bright object to avoid\", {'obsconditions': 'APOCALYPSE', 'priorities': {}, 'numobs': -1}]\n",
       "  - [IN_BRIGHT_OBJECT, 51, \"Too near a bright object; DO NOT OBSERVE\", {'obsconditions': 'APOCALYPSE', 'priorities': {}, 'numobs': -1}]\n",
       "  - [NEAR_BRIGHT_OBJECT, 52, \"Near a bright object but ok to observe\", {'obsconditions': 'DARK|GRAY|BRIGHT|POOR|TWILIGHT12|TWILIGHT18', 'priorities': {}, 'numobs': -1}]\n",
       "  - [BGS_ANY,         60, \"Any BGS bit is set\", {'obsconditions': 'BRIGHT', 'priorities': {}, 'numobs': -1}]\n",
       "  - [MWS_ANY,         61, \"Any MWS bit is set\", {'obsconditions': 'BRIGHT', 'priorities': {}, 'numobs': -1}]\n",
       "  - [SECONDARY_ANY,   62, \"Any secondary bit is set\", {'obsconditions': 'DARK|GRAY|BRIGHT|POOR|TWILIGHT12|TWILIGHT18', 'priorities': {}, 'numobs': -1}]"
      ]
     },
     "execution_count": 29,
     "metadata": {},
     "output_type": "execute_result"
    }
   ],
   "source": [
    "desi_mask"
   ]
  },
  {
   "cell_type": "markdown",
   "metadata": {},
   "source": [
    "Let's find the indexes of all standard F-stars in the spectral file:"
   ]
  },
  {
   "cell_type": "code",
   "execution_count": 30,
   "metadata": {},
   "outputs": [
    {
     "ename": "KeyError",
     "evalue": "'STD_FSTAR'",
     "output_type": "error",
     "traceback": [
      "\u001b[0;31m---------------------------------------------------------------------------\u001b[0m",
      "\u001b[0;31mKeyError\u001b[0m                                  Traceback (most recent call last)",
      "\u001b[0;32m<ipython-input-30-156a6253b8b1>\u001b[0m in \u001b[0;36m<module>\u001b[0;34m()\u001b[0m\n\u001b[0;32m----> 1\u001b[0;31m \u001b[0mstds\u001b[0m \u001b[0;34m=\u001b[0m \u001b[0mnp\u001b[0m\u001b[0;34m.\u001b[0m\u001b[0mwhere\u001b[0m\u001b[0;34m(\u001b[0m\u001b[0mspecobj\u001b[0m\u001b[0;34m.\u001b[0m\u001b[0mfibermap\u001b[0m\u001b[0;34m[\u001b[0m\u001b[0;34m\"DESI_TARGET\"\u001b[0m\u001b[0;34m]\u001b[0m \u001b[0;34m&\u001b[0m \u001b[0mdesi_mask\u001b[0m\u001b[0;34m[\u001b[0m\u001b[0;34m\"STD_FSTAR\"\u001b[0m\u001b[0;34m]\u001b[0m\u001b[0;34m)\u001b[0m\u001b[0;34m[\u001b[0m\u001b[0;36m0\u001b[0m\u001b[0;34m]\u001b[0m\u001b[0;34m\u001b[0m\u001b[0m\n\u001b[0m\u001b[1;32m      2\u001b[0m \u001b[0mprint\u001b[0m\u001b[0;34m(\u001b[0m\u001b[0mstds\u001b[0m\u001b[0;34m)\u001b[0m\u001b[0;34m\u001b[0m\u001b[0m\n",
      "\u001b[0;32m/global/common/software/desi/cori/desiconda/20180709-1.2.6-spec/code/desiutil/master/py/desiutil/bitmask.py\u001b[0m in \u001b[0;36m__getitem__\u001b[0;34m(self, bitname)\u001b[0m\n\u001b[1;32m    140\u001b[0m         \"\"\"Return mask for individual bitname.\n\u001b[1;32m    141\u001b[0m         \"\"\"\n\u001b[0;32m--> 142\u001b[0;31m         \u001b[0;32mreturn\u001b[0m \u001b[0mself\u001b[0m\u001b[0;34m.\u001b[0m\u001b[0m_bits\u001b[0m\u001b[0;34m[\u001b[0m\u001b[0mbitname\u001b[0m\u001b[0;34m]\u001b[0m\u001b[0;34m\u001b[0m\u001b[0m\n\u001b[0m\u001b[1;32m    143\u001b[0m \u001b[0;34m\u001b[0m\u001b[0m\n\u001b[1;32m    144\u001b[0m     \u001b[0;32mdef\u001b[0m \u001b[0mbitnum\u001b[0m\u001b[0;34m(\u001b[0m\u001b[0mself\u001b[0m\u001b[0;34m,\u001b[0m \u001b[0mbitname\u001b[0m\u001b[0;34m)\u001b[0m\u001b[0;34m:\u001b[0m\u001b[0;34m\u001b[0m\u001b[0m\n",
      "\u001b[0;31mKeyError\u001b[0m: 'STD_FSTAR'"
     ]
    }
   ],
   "source": [
    "stds = np.where(specobj.fibermap[\"DESI_TARGET\"] & desi_mask[\"STD_FSTAR\"])[0]\n",
    "print(stds)"
   ]
  },
  {
   "cell_type": "markdown",
   "metadata": {},
   "source": [
    "Where were these located on the original plate-fiber mapping?"
   ]
  },
  {
   "cell_type": "code",
   "execution_count": null,
   "metadata": {},
   "outputs": [],
   "source": [
    "fm = specobj.fibermap   #- shorthand\n",
    "plt.plot(fm[\"RA_TARGET\"],fm[\"DEC_TARGET\"],'b.', alpha=0.1)\n",
    "plt.plot(fm[\"RA_TARGET\"][stds],fm[\"DEC_TARGET\"][stds],'kx')"
   ]
  },
  {
   "cell_type": "markdown",
   "metadata": {},
   "source": [
    "Recall that there can be (will be!) more than one spectrum per object"
   ]
  },
  {
   "cell_type": "code",
   "execution_count": null,
   "metadata": {},
   "outputs": [],
   "source": [
    "num_standard_stars = len(set(specobj.fibermap['TARGETID'][stds]))\n",
    "num_stdstar_exposures = np.count_nonzero(stds)\n",
    "print('{} exposures of {} standards'.format(num_stdstar_exposures, num_standard_stars))"
   ]
  },
  {
   "cell_type": "markdown",
   "metadata": {},
   "source": [
    "Let's take a look at the spectra of these standard stars, plotting just the first spectrum from each camera for the first 9 standards."
   ]
  },
  {
   "cell_type": "code",
   "execution_count": null,
   "metadata": {},
   "outputs": [],
   "source": [
    "targetids = list(set(specobj.fibermap['TARGETID'][stds]))\n",
    "figure(figsize=(12,9))\n",
    "for i, tx in enumerate(targetids[0:9]):\n",
    "    subplot(3,3,i+1)\n",
    "    sp = specobj.select(targets=[tx,])\n",
    "    plt.plot(sp.wave['b'], sp.flux['b'][0], 'b-', alpha=0.5)\n",
    "    plt.plot(sp.wave['r'], sp.flux['r'][0], 'r-', alpha=0.5)\n",
    "    plt.plot(sp.wave['z'], sp.flux['z'][0], 'k-', alpha=0.5)\n",
    "    # plt.show()"
   ]
  },
  {
   "cell_type": "markdown",
   "metadata": {},
   "source": [
    "These seem realistic. Let's zoom in on some of the Balmer series for the zeroth standard:"
   ]
  },
  {
   "cell_type": "code",
   "execution_count": null,
   "metadata": {},
   "outputs": [],
   "source": [
    "Balmer = [4102,4341,4861]\n",
    "halfwindow = 50\n",
    "figure(figsize=(4*len(Balmer), 3))\n",
    "for i in range(len(Balmer)):\n",
    "    subplot(1,len(Balmer),i+1)\n",
    "    plt.axis([Balmer[i]-halfwindow,Balmer[i]+halfwindow,0,np.max(bflux[stds[0]])])\n",
    "    plt.plot(bwave,bflux[stds[0]])\n",
    "    # plt.show()"
   ]
  },
  {
   "cell_type": "markdown",
   "metadata": {},
   "source": [
    "## Redshifts"
   ]
  },
  {
   "cell_type": "markdown",
   "metadata": {},
   "source": [
    "The directory from which we took these spectra also contains information on the best-fit redshifts for the spectra from the [redrock](https://github.com/desihub/redrock) code. The first pixel we looked at didn't have very many targets, so we'll pick one with more targets for studying the redshifts."
   ]
  },
  {
   "cell_type": "code",
   "execution_count": null,
   "metadata": {},
   "outputs": [],
   "source": [
    "zfilename = specfilename.replace('spectra-64-', 'zbest-64-')\n",
    "zs = fitsio.read(zfilename)\n",
    "zs.dtype.descr"
   ]
  },
  {
   "cell_type": "markdown",
   "metadata": {},
   "source": [
    "Note that due to repeated observations, there could be a different number of spectra than final redshifts, meaning that there isn't a row-by-row mapping between spectra and redshifts..."
   ]
  },
  {
   "cell_type": "code",
   "execution_count": null,
   "metadata": {},
   "outputs": [],
   "source": [
    "print(zs.shape[0], 'redshifts')\n",
    "print(specobj.num_targets(), 'targets')\n",
    "print(specobj.num_spectra(), 'spectra')\n",
    "print(specobj.flux['b'].shape, 'shape of flux[\"b\"]')"
   ]
  },
  {
   "cell_type": "markdown",
   "metadata": {},
   "source": [
    "...but the `TARGETID` (which *is* intended to be unique) is in this file, too, allowing sources to be uniquely mapped from targeting, to spectra, to redshift. Let's extract all sources that were targeted as quasars using the fibermap information from the spectral file, and plot the first 20:"
   ]
  },
  {
   "cell_type": "code",
   "execution_count": null,
   "metadata": {},
   "outputs": [],
   "source": [
    "qsos = np.where(specobj.fibermap[\"DESI_TARGET\"] & desi_mask[\"QSO\"])[0]\n",
    "print(len(qsos), 'QSOs')\n",
    "plt.figure(figsize=(12,9))\n",
    "for i in range(len(qsos))[0:9]:\n",
    "    plt.subplot(3,3,i+1)\n",
    "    plt.plot(bwave,bflux[qsos[i]],'b', alpha=0.5)\n",
    "    plt.plot(rwave,rflux[qsos[i]],'r', alpha=0.5)\n",
    "    plt.plot(zwave,zflux[qsos[i]],'k', alpha=0.5)\n",
    "    # plt.show()"
   ]
  },
  {
   "cell_type": "markdown",
   "metadata": {},
   "source": [
    "Let's match these quasar targets to the redshift file on `TARGETID` to extract their best-fit redshifts from `redrock`:"
   ]
  },
  {
   "cell_type": "code",
   "execution_count": null,
   "metadata": {},
   "outputs": [],
   "source": [
    "dd = defaultdict(list)\n",
    "for index, item in enumerate(zs[\"TARGETID\"]):\n",
    "    dd[item].append(index)\n",
    "zqsos = [index for item in fm[qsos][\"TARGETID\"] for index in dd[item] if item in dd]"
   ]
  },
  {
   "cell_type": "markdown",
   "metadata": {},
   "source": [
    "That might be hard to follow at first glance, but all I did was use some \"standard\" python syntax to match the indices in `zs` (the ordering of objects in the `redrock` redshift file) to those for quasars in `fm` (the ordering of quasars in the fibermap file), on the unique `TARGETID`, such that the indices stored in `qsos` for `fm` point to the corresponding indices in `zqsos` for `zs`. This might help illustrate the result:"
   ]
  },
  {
   "cell_type": "code",
   "execution_count": null,
   "metadata": {},
   "outputs": [],
   "source": [
    "zs[zqsos][\"TARGETID\"][0:7], fm[qsos][\"TARGETID\"][0:7]"
   ]
  },
  {
   "cell_type": "markdown",
   "metadata": {},
   "source": [
    "Let's see what best-fit template `redrock` assigned to each quasar. This information is stored in the `SPECTYPE` column."
   ]
  },
  {
   "cell_type": "code",
   "execution_count": null,
   "metadata": {},
   "outputs": [],
   "source": [
    "zs[zqsos][\"SPECTYPE\"]"
   ]
  },
  {
   "cell_type": "markdown",
   "metadata": {},
   "source": [
    "Or for standard stars:"
   ]
  },
  {
   "cell_type": "code",
   "execution_count": null,
   "metadata": {},
   "outputs": [],
   "source": [
    "dd = defaultdict(list)\n",
    "for index, item in enumerate(zs[\"TARGETID\"]):\n",
    "    dd[item].append(index)\n",
    "zstds = [index for item in fm[stds][\"TARGETID\"] for index in dd[item] if item in dd]"
   ]
  },
  {
   "cell_type": "markdown",
   "metadata": {},
   "source": [
    "For stars, we can also display the type of star that `redrock` fit (this is stored in the `SUBTYPE` column):"
   ]
  },
  {
   "cell_type": "code",
   "execution_count": null,
   "metadata": {},
   "outputs": [],
   "source": [
    "zipper = zip(zs[zstds][\"SUBTYPE\"],zs[zstds][\"SPECTYPE\"])\n",
    "for sub, spec in zipper:\n",
    "    print(\"{}-{}\".format(sub.decode('utf-8'),spec.decode('utf-8')))"
   ]
  },
  {
   "cell_type": "markdown",
   "metadata": {},
   "source": [
    "(here the conversion to `utf-8` is simply for display purposes because the strings in `SUBTYPE` and `SPECTYPE` are stored as bytes instead of unicode)."
   ]
  },
  {
   "cell_type": "markdown",
   "metadata": {},
   "source": [
    "OK, back to our quasars. Let's plot the quasar targets that *are identified as quasars* , but add a label for the `SPECTYPE` and the redshift fit by `redrock`. I'll also add some median filtering and over-plot some (approximate) typical quasar emission lines at the redrock redshift (if those lines would fall in the DESI wavelength coverage):"
   ]
  },
  {
   "cell_type": "code",
   "execution_count": null,
   "metadata": {},
   "outputs": [],
   "source": [
    "from scipy.signal import medfilt\n",
    "\n",
    "qsoid = np.where(zs[zqsos][\"SPECTYPE\"] == b'QSO')[0]\n",
    "qsolines = np.array([1216,1546,1906,2800,4853,4960,5008])\n",
    "\n",
    "wave = specobj.wave\n",
    "flux = specobj.flux\n",
    "\n",
    "plt.figure(figsize=(12,9))\n",
    "for i in range(len(qsoid))[0:9]:\n",
    "    plt.subplot(3,3,1+i)\n",
    "    spectype = zs[zqsos[qsoid[i]]][\"SPECTYPE\"].decode('utf-8')\n",
    "    z = zs[zqsos[qsoid[i]]][\"Z\"]\n",
    "    plt.plot(wave['b'], medfilt(flux['b'][qsos[qsoid[i]]], 15), 'b', alpha=0.5)\n",
    "    plt.plot(wave['r'], medfilt(flux['r'][qsos[qsoid[i]]], 15), 'r', alpha=0.5)\n",
    "    plt.plot(wave['z'], medfilt(flux['z'][qsos[qsoid[i]]], 15), 'k', alpha=0.5)\n",
    "    plt.title(\"{}, z={:.3f}\".format(spectype,z))\n",
    "    for line in qsolines:\n",
    "        if ((1+z)*line > np.min(bwave)) & ((1+z)*line < np.max(zwave)):\n",
    "            axvline((1+z)*line, color='y', alpha=0.5)"
   ]
  },
  {
   "cell_type": "markdown",
   "metadata": {},
   "source": [
    "## Appendix: code versions used"
   ]
  },
  {
   "cell_type": "code",
   "execution_count": null,
   "metadata": {},
   "outputs": [],
   "source": [
    "from desitutorials import print_code_versions as pcv\n",
    "print(\"This tutorial last ran successfully to completion using the following versions of the following modules:\") \n",
    "pcv()"
   ]
  },
  {
   "cell_type": "markdown",
   "metadata": {},
   "source": [
    "## Appendix: Healpix overview"
   ]
  },
  {
   "cell_type": "markdown",
   "metadata": {},
   "source": [
    "DESI uses healpix for grouping spectra on the sky.  It is somewhat overkill for our needs, but it has a nice nested pixel structure and has good fast libraries for common operations like determining which pixels cover which points on the sky.\n",
    "\n",
    "If you aren't familiar with HEALPix, it is an equal-area splitting of the sphere, where the sphere is initially divided into 12 equal-area pixels, and then each of those pixels is divided into 4 new equal-area pixels as `nside` increases (a quad tree). Schematically, here's how `nside` corresponds to pixel *area* in degrees:"
   ]
  },
  {
   "cell_type": "code",
   "execution_count": null,
   "metadata": {},
   "outputs": [],
   "source": [
    "sphere_area = 4*180.*180./np.pi\n",
    "for i in range(10):\n",
    "    nside = 2**i\n",
    "    npix = 12*nside**2\n",
    "    hpx_area = sphere_area / npix\n",
    "    print(nside, npix, hpx_area)"
   ]
  },
  {
   "cell_type": "markdown",
   "metadata": {},
   "source": [
    "The `nside` at which the example spectra are grouped therefore corresponds to ~0.84 sq. deg. Note that I could have checked this more easily (but less pedagogically) using the useful python [HEALPix](https://healpy.readthedocs.io/en/latest/) library:"
   ]
  },
  {
   "cell_type": "code",
   "execution_count": null,
   "metadata": {},
   "outputs": [],
   "source": [
    "hp.nside2pixarea(64,degrees=True)"
   ]
  },
  {
   "cell_type": "markdown",
   "metadata": {},
   "source": [
    "The spectra are stored in this fashion so that they are grouped (roughly) contiguously on the sky, with a reasonable number of spectra in each directory. It's easy to derive the approximate RA/Dec near each pixel number (note that we sneakily stored the pixel numbers as `pixnums` when we were examining the directory structure):"
   ]
  },
  {
   "cell_type": "code",
   "execution_count": null,
   "metadata": {},
   "outputs": [],
   "source": [
    "ras, decs = hp.pix2ang(64, pixnums, nest=True, lonlat=True)"
   ]
  },
  {
   "cell_type": "markdown",
   "metadata": {},
   "source": [
    "Note that **the DESI Data Model will always use the _NESTED_ scheme for HEALPix**."
   ]
  },
  {
   "cell_type": "code",
   "execution_count": null,
   "metadata": {},
   "outputs": [],
   "source": [
    "zipper = list(zip(pixnums,ras,decs))\n",
    "for pix,ra,dec in zipper[0:10]:\n",
    "    print(\"Pixel(nside=64): {} RA: {} DEC: {}\".format(pix,ra,dec))\n",
    "if len(zipper) > 10:\n",
    "    print('...')"
   ]
  },
  {
   "cell_type": "code",
   "execution_count": null,
   "metadata": {},
   "outputs": [],
   "source": []
  }
 ],
 "metadata": {
  "anaconda-cloud": {},
  "kernelspec": {
   "display_name": "DESI custom",
   "language": "python",
   "name": "desi-custom"
  },
  "language_info": {
   "codemirror_mode": {
    "name": "ipython",
    "version": 3
   },
   "file_extension": ".py",
   "mimetype": "text/x-python",
   "name": "python",
   "nbconvert_exporter": "python",
   "pygments_lexer": "ipython3",
   "version": "3.6.6"
  }
 },
 "nbformat": 4,
 "nbformat_minor": 2
}

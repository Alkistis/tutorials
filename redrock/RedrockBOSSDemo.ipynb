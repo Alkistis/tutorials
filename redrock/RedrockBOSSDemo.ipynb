{
 "cells": [
  {
   "cell_type": "markdown",
   "metadata": {},
   "source": [
    "# Redrock on BOSS data\n",
    "\n",
    "This tutorial demonstrates running redrock on BOSS data.\n",
    "Some pieces are a bit cryptic because of code organized for parallelism\n",
    "rather than interactive use.  In general one would use the `rrboss` script,\n",
    "but this tutorial pokes under the hood a bit to see the pieces."
   ]
  },
  {
   "cell_type": "code",
   "execution_count": 1,
   "metadata": {
    "collapsed": false
   },
   "outputs": [
    {
     "name": "stdout",
     "output_type": "stream",
     "text": [
      "Populating the interactive namespace from numpy and matplotlib\n"
     ]
    }
   ],
   "source": [
    "%pylab inline\n",
    "import os\n",
    "import numpy as np\n",
    "from redrock.external import boss\n",
    "from redrock.zfind import zfind\n",
    "\n",
    "from redrock.targets import Spectrum, Target, DistTargetsCopy\n",
    "from redrock.templates import load_dist_templates"
   ]
  },
  {
   "cell_type": "markdown",
   "metadata": {},
   "source": [
    "Read a subset of the data from spPlate-3678-55208.fits.\n",
    "* If fiberid is not specified, all fibers from the plate are read.\n",
    "* If use_frames is True, the individual exposures will be discovered from the spPlate header. The corresponding spCFrame files should be in the same directory as the spPlate file.\n",
    "* BEWARE: The targets list might not have the same order as the input fiberid\n",
    "\n",
    "**NOTE**: BOSS/eBOSS is publicly accessible and can be downloaded\n",
    "from https://data.sdss.org/sas/dr14/eboss/spectro/redux/\n",
    "\n",
    "They are also available at NERSC: /project/projectdirs/cosmo/data/sdss/dr14/eboss/spectro/redux/v5_10_0"
   ]
  },
  {
   "cell_type": "code",
   "execution_count": 2,
   "metadata": {
    "collapsed": false
   },
   "outputs": [
    {
     "name": "stdout",
     "output_type": "stream",
     "text": [
      "DEBUG: read /project/projectdirs/cosmo/data/sdss/dr14/eboss/spectro/redux/v5_10_0/3678/spPlate-3678-55208.fits \n"
     ]
    }
   ],
   "source": [
    "if 'NERSC_HOST' in os.environ:\n",
    "    spplate = \"/project/projectdirs/cosmo/data/sdss/dr14/eboss/spectro/redux/v5_10_0/3678/spPlate-3678-55208.fits\"\n",
    "else:\n",
    "    spplate=\"data/spPlate-3678-55208.fits\"\n",
    "targets,meta = boss.read_spectra(spplate, use_frames=False, fiberid=[36,51,52,54,60])"
   ]
  },
  {
   "cell_type": "code",
   "execution_count": 3,
   "metadata": {},
   "outputs": [
    {
     "name": "stdout",
     "output_type": "stream",
     "text": [
      "DEBUG: Using default redshift range 0.0050-1.6988 for rrtemplate-galaxy.fits\n",
      "DEBUG: Using default redshift range 0.0500-3.9968 for rrtemplate-qso.fits\n",
      "DEBUG: Using default redshift range -0.0020-0.0020 for rrtemplate-star-A.fits\n",
      "DEBUG: Using default redshift range -0.0020-0.0020 for rrtemplate-star-B.fits\n",
      "DEBUG: Using default redshift range -0.0020-0.0020 for rrtemplate-star-Carbon.fits\n",
      "DEBUG: Using default redshift range -0.0020-0.0020 for rrtemplate-star-F.fits\n",
      "DEBUG: Using default redshift range -0.0020-0.0020 for rrtemplate-star-G.fits\n",
      "DEBUG: Using default redshift range -0.0020-0.0020 for rrtemplate-star-K.fits\n",
      "DEBUG: Using default redshift range -0.0020-0.0020 for rrtemplate-star-Ldwarf.fits\n",
      "DEBUG: Using default redshift range -0.0020-0.0020 for rrtemplate-star-M.fits\n",
      "DEBUG: Using default redshift range -0.0020-0.0020 for rrtemplate-star-WD.fits\n",
      "Read and broadcast of 11 templates: 0.1 seconds\n",
      "Rebinning templates: 15.6 seconds\n"
     ]
    }
   ],
   "source": [
    "dtargets = DistTargetsCopy(targets)\n",
    "dwave = dtargets.wavegrids()\n",
    "dtemplates = load_dist_templates(dwave)\n",
    "templates = dict()\n",
    "for dt in dtemplates:\n",
    "    templates[dt.template.full_type] = dt.template"
   ]
  },
  {
   "cell_type": "markdown",
   "metadata": {},
   "source": [
    "# Doing the redshifts scans\n",
    "\n",
    "Define the templates and to the redshift scans over those templates.\n",
    "\n",
    "This might take a few minutes, please be patient! Your computer is working hard."
   ]
  },
  {
   "cell_type": "code",
   "execution_count": 4,
   "metadata": {
    "collapsed": false
   },
   "outputs": [
    {
     "name": "stdout",
     "output_type": "stream",
     "text": [
      "Computing redshifts\n",
      "  Scanning redshifts for template GALAXY\n",
      "    Progress:   0 %\n",
      "    Progress:  10 %\n",
      "    Progress:  20 %\n",
      "    Progress:  30 %\n",
      "    Progress:  40 %\n",
      "    Progress:  50 %\n",
      "    Finished in: 6.4 seconds\n",
      "  Scanning redshifts for template QSO\n",
      "    Progress:   0 %\n",
      "    Progress:  10 %\n",
      "    Progress:  20 %\n",
      "    Progress:  30 %\n",
      "    Progress:  40 %\n",
      "    Progress:  50 %\n",
      "    Finished in: 3.0 seconds\n",
      "  Scanning redshifts for template STAR:::A\n",
      "    Progress:   0 %\n",
      "    Progress:  10 %\n",
      "    Progress:  20 %\n",
      "    Progress:  30 %\n",
      "    Progress:  40 %\n",
      "    Progress:  50 %\n",
      "    Finished in: 0.3 seconds\n",
      "  Scanning redshifts for template STAR:::B\n",
      "    Progress:   0 %\n",
      "    Progress:  10 %\n",
      "    Progress:  20 %\n",
      "    Progress:  30 %\n",
      "    Progress:  40 %\n",
      "    Progress:  50 %\n",
      "    Finished in: 0.3 seconds\n",
      "  Scanning redshifts for template STAR:::CARBON\n",
      "    Progress:   0 %\n",
      "    Progress:  10 %\n",
      "    Progress:  20 %\n",
      "    Progress:  30 %\n",
      "    Progress:  40 %\n",
      "    Progress:  50 %\n",
      "    Finished in: 0.1 seconds\n",
      "  Scanning redshifts for template STAR:::F\n",
      "    Progress:   0 %\n",
      "    Progress:  10 %\n",
      "    Progress:  20 %\n",
      "    Progress:  30 %\n",
      "    Progress:  40 %\n",
      "    Progress:  50 %\n",
      "    Finished in: 0.3 seconds\n",
      "  Scanning redshifts for template STAR:::G\n",
      "    Progress:   0 %\n",
      "    Progress:  10 %\n",
      "    Progress:  20 %\n",
      "    Progress:  30 %\n",
      "    Progress:  40 %\n",
      "    Progress:  50 %\n",
      "    Finished in: 0.3 seconds\n",
      "  Scanning redshifts for template STAR:::K\n",
      "    Progress:   0 %\n",
      "    Progress:  10 %\n",
      "    Progress:  20 %\n",
      "    Progress:  30 %\n",
      "    Progress:  40 %\n",
      "    Progress:  50 %\n",
      "    Finished in: 0.3 seconds\n",
      "  Scanning redshifts for template STAR:::LDWARF\n",
      "    Progress:   0 %\n",
      "    Progress:  10 %\n",
      "    Progress:  20 %\n",
      "    Progress:  30 %\n",
      "    Progress:  40 %\n",
      "    Progress:  50 %\n",
      "    Finished in: 0.1 seconds\n",
      "  Scanning redshifts for template STAR:::M\n",
      "    Progress:   0 %\n",
      "    Progress:  10 %\n",
      "    Progress:  20 %\n",
      "    Progress:  30 %\n",
      "    Progress:  40 %\n",
      "    Progress:  50 %\n",
      "    Finished in: 0.3 seconds\n",
      "  Scanning redshifts for template STAR:::WD\n",
      "    Progress:   0 %\n",
      "    Progress:  10 %\n",
      "    Progress:  20 %\n",
      "    Progress:  30 %\n",
      "    Progress:  40 %\n",
      "    Progress:  50 %\n",
      "    Finished in: 0.3 seconds\n",
      "  Finding best fits for template GALAXY\n",
      "    Finished in: 1.9 seconds\n",
      "  Finding best fits for template QSO\n",
      "    Finished in: 0.8 seconds\n",
      "  Finding best fits for template STAR:::A\n",
      "    Finished in: 0.8 seconds\n",
      "  Finding best fits for template STAR:::B\n",
      "    Finished in: 0.8 seconds\n",
      "  Finding best fits for template STAR:::CARBON\n",
      "    Finished in: 0.5 seconds\n",
      "  Finding best fits for template STAR:::F\n",
      "    Finished in: 0.9 seconds\n",
      "  Finding best fits for template STAR:::G\n",
      "    Finished in: 0.8 seconds\n",
      "  Finding best fits for template STAR:::K\n",
      "    Finished in: 0.8 seconds\n",
      "  Finding best fits for template STAR:::LDWARF\n",
      "    Finished in: 0.5 seconds\n",
      "  Finding best fits for template STAR:::M\n",
      "    Finished in: 0.8 seconds\n",
      "  Finding best fits for template STAR:::WD\n",
      "    Finished in: 0.7 seconds\n"
     ]
    }
   ],
   "source": [
    "zscan, zfit = zfind(dtargets, dtemplates)"
   ]
  },
  {
   "cell_type": "markdown",
   "metadata": {},
   "source": [
    "# Exploring the output\n",
    "\n",
    "The zscan dictionary contains the all the redshift scan information for each target and each template.\n",
    "\n",
    "For example, here's a plot of the $\\chi^2$ vs $z$ for the first target.\n"
   ]
  },
  {
   "cell_type": "code",
   "execution_count": 5,
   "metadata": {
    "collapsed": false
   },
   "outputs": [
    {
     "data": {
      "text/plain": [
       "Text(0,0.5,'$\\\\chi^2$')"
      ]
     },
     "execution_count": 5,
     "metadata": {},
     "output_type": "execute_result"
    },
    {
     "data": {
      "image/png": "[encoded data removed]",
      "text/plain": [
       "<matplotlib.figure.Figure at 0x2aaadf8c7668>"
      ]
     },
     "metadata": {},
     "output_type": "display_data"
    }
   ],
   "source": [
    "targetid = targets[0].id\n",
    "for template in dtemplates:\n",
    "    full_type = template.template.full_type\n",
    "    plot(zscan[targetid][full_type]['redshifts'],\\\n",
    "         zscan[targetid][full_type]['zchi2'],label=full_type)\n",
    "\n",
    "legend(loc=0,frameon=False)\n",
    "ylim(4000,6000)\n",
    "grid()\n",
    "xlabel(\"redshift\",fontsize=24)\n",
    "ylabel(\"$\\chi^2$\",fontsize=24)"
   ]
  },
  {
   "cell_type": "markdown",
   "metadata": {},
   "source": [
    "Excellent! We find that the best fit is corresponds to a QSO template at redshift around 1.8. \n",
    "\n",
    "Let's confirm that by looking at the zfit table:"
   ]
  },
  {
   "cell_type": "code",
   "execution_count": 6,
   "metadata": {
    "collapsed": false
   },
   "outputs": [
    {
     "name": "stdout",
     "output_type": "stream",
     "text": [
      "Redrock thinks 3678552080036 is a QSO at redshift 1.870964990456901\n"
     ]
    }
   ],
   "source": [
    "print(\"Redrock thinks {} is a {} at redshift {}\".format(targets[0].id,zfit[0]['spectype'],zfit[0]['z']))"
   ]
  },
  {
   "cell_type": "markdown",
   "metadata": {},
   "source": [
    "Let's now make a plot of the spectrum and its best fit. The best fit is obtained by evaluating the best fit template (in this case a QSO) at the best fit redshift. Let's list the template types:"
   ]
  },
  {
   "cell_type": "code",
   "execution_count": 11,
   "metadata": {
    "collapsed": false
   },
   "outputs": [
    {
     "name": "stdout",
     "output_type": "stream",
     "text": [
      "0 GALAXY\n",
      "1 QSO\n",
      "2 STAR:::A\n",
      "3 STAR:::B\n",
      "4 STAR:::CARBON\n",
      "5 STAR:::F\n",
      "6 STAR:::G\n",
      "7 STAR:::K\n",
      "8 STAR:::LDWARF\n",
      "9 STAR:::M\n",
      "10 STAR:::WD\n"
     ]
    }
   ],
   "source": [
    "for i,t in enumerate(templates.values()):\n",
    "    print(i,t.full_type)"
   ]
  },
  {
   "cell_type": "markdown",
   "metadata": {},
   "source": [
    "We now evaluate the template 'QSO' at the best fit redshift:"
   ]
  },
  {
   "cell_type": "code",
   "execution_count": 12,
   "metadata": {
    "collapsed": false
   },
   "outputs": [],
   "source": [
    "tid = targets[0].id\n",
    "t_qso = templates['QSO']\n",
    "\n",
    "## several minima are stored in the zfit table\n",
    "minumum_number = 0\n",
    "\n",
    "## select the target id and minumum number\n",
    "w = (zfit[:]['targetid']==tid) & (zfit[:]['znum']==minumum_number)\n",
    "\n",
    "## now get the coefficients\n",
    "coeff = zfit[w]['coeff'].reshape(-1)\n",
    "zbest = zfit[w]['z'][0]\n",
    "\n",
    "## compute the best fit:\n",
    "fit = t_qso.eval(coeff[:4],targets[0].spectra[0].wave,zbest)\n",
    "\n",
    "## remultiply by (1+z)\n",
    "fit *= (1+zbest)"
   ]
  },
  {
   "cell_type": "code",
   "execution_count": 13,
   "metadata": {
    "collapsed": false
   },
   "outputs": [
    {
     "data": {
      "text/plain": [
       "(-1, 6)"
      ]
     },
     "execution_count": 13,
     "metadata": {},
     "output_type": "execute_result"
    },
    {
     "data": {
      "image/png": "[encoded data removed]",
      "text/plain": [
       "<matplotlib.figure.Figure at 0x2aaaf25b9ba8>"
      ]
     },
     "metadata": {},
     "output_type": "display_data"
    }
   ],
   "source": [
    "wave=targets[0].spectra[0].wave\n",
    "flux = targets[0].spectra[0].flux\n",
    "plot(wave,flux)\n",
    "plot(wave,fit)\n",
    "ylim(-1,6)"
   ]
  },
  {
   "cell_type": "markdown",
   "metadata": {},
   "source": [
    "Let's add a bit of rebinning to smooth out the noise:"
   ]
  },
  {
   "cell_type": "code",
   "execution_count": 14,
   "metadata": {
    "collapsed": false
   },
   "outputs": [
    {
     "data": {
      "text/plain": [
       "[<matplotlib.lines.Line2D at 0x2aaaf25a9588>]"
      ]
     },
     "execution_count": 14,
     "metadata": {},
     "output_type": "execute_result"
    },
    {
     "data": {
      "image/png": "[encoded data removed]",
      "text/plain": [
       "<matplotlib.figure.Figure at 0x2aaaf25a9b70>"
      ]
     },
     "metadata": {},
     "output_type": "display_data"
    }
   ],
   "source": [
    "i = np.arange(len(fit),dtype=float)\n",
    "A = i - i[:,None]\n",
    "rebin = 5\n",
    "w = abs(A)<rebin\n",
    "A[w]=1.\n",
    "A[~w]=0\n",
    "A /= A.sum(axis=1).reshape(-1,1)\n",
    "plot(wave,A.dot(flux))\n",
    "plot(wave,A.dot(fit))"
   ]
  },
  {
   "cell_type": "code",
   "execution_count": null,
   "metadata": {
    "collapsed": true
   },
   "outputs": [],
   "source": []
  }
 ],
 "metadata": {
  "anaconda-cloud": {},
  "kernelspec": {
   "display_name": "DESI 18.3",
   "language": "python",
   "name": "desi-18.3"
  },
  "language_info": {
   "codemirror_mode": {
    "name": "ipython",
    "version": 3
   },
   "file_extension": ".py",
   "mimetype": "text/x-python",
   "name": "python",
   "nbconvert_exporter": "python",
   "pygments_lexer": "ipython3",
   "version": "3.6.4"
  }
 },
 "nbformat": 4,
 "nbformat_minor": 2
}

{
 "cells": [
  {
   "cell_type": "markdown",
   "metadata": {},
   "source": [
    "# Introduction to Survey Simulations"
   ]
  },
  {
   "cell_type": "markdown",
   "metadata": {},
   "source": [
    "The goal of this notebook is to introduce you to the outputs available from DESI \"survey simulations\". These are the fastest type of DESI simulation to run and only involve the following components:\n",
    " - Simulated stochastic weather (seeing, transparency, ...). See [DESI-3087](https://desi.lbl.gov/DocDB/cgi-bin/private/ShowDocument?docid=3087) for details.\n",
    " - Afternoon planning, which updates tile observing priorities and schedules fiber assignment.\n",
    " - Next tile selector, which determines which tile to observe next, based on recent progress and current weather.\n",
    " \n",
    "The software for these components is mostly in the [desisurvey](https://desisurvey.readthedocs.io) and [surveysim](https://surveysim.readthedocs.io) packages.  Note that survey simulations operate at the level of tiles, not targets, and never generate spectra or redshifts and do not refer to any input catalog.  For a recent overview of the different DESI simluation types, see [DESI-3377](https://desi.lbl.gov/DocDB/cgi-bin/private/ShowDocument?docid=3377).\n",
    "\n",
    "This tutorial focuses on the using the outputs of a survey simulation. After working with the outputs from some existing simulations, you might want to run your own survey simulations: that tutorial is [here](http://surveysim.readthedocs.io/en/latest/tutorial.html).  For other tutorials, covering topics such as simulating your own DESI spectra, see [this list](https://github.com/desihub/tutorials/blob/master/README.md).\n",
    "\n",
    "For general questions and suggestions on this tutorial, email desi-data@desi.lbl.gov. For more specific suggestions or bug reports, please [create a github issue](https://github.com/desihub/tutorials/issues)."
   ]
  },
  {
   "cell_type": "markdown",
   "metadata": {},
   "source": [
    "## Getting Started"
   ]
  },
  {
   "cell_type": "markdown",
   "metadata": {},
   "source": [
    "This notebook is optimized for use with the jupyter-dev service at NERSC, which provides pre-installed DESI software running in a jupyter notebook. If this is your first time using jupyter-dev at NERSC, follow [these instructions](https://desi.lbl.gov/trac/wiki/Computing/JupyterAtNERSC) to get it configured.\n",
    "\n",
    "If you prefer to work on your laptop, you will need to [install the necessary DESI software locally](https://desi.lbl.gov/trac/wiki/Pipeline/GettingStarted/Laptop).\n",
    "\n",
    "**If you are working through this notebook in a live jupyter session, I recommend removing all the output below for a more interactive experience.** Use the \"Cell > Current Outputs > Clear\" menu item.\n",
    "\n",
    "**There are several exercises below for you to work on once you master the basics.**"
   ]
  },
  {
   "cell_type": "markdown",
   "metadata": {},
   "source": [
    "#### DESI Version Compatibility\n",
    "\n",
    "- 2017-12-04 : tested using the `DESI master` kernel on jupyter-dev with the `surveysim2017/depth_0m/` outputs.\n",
    "- 2018-03-30 : tested using the `DESI 18.3` kernel on jupyter-dev with the `surveysim2017/depth_0m/` outputs (which were generated with an earlier version of the code).\n",
    "- 2018-07-20 : tested using the `DESI 18.6` kernel on jupyter-dev with the `surveysim2017/depth_0m/` outputs (which were generated with an earlier version of the code).\n",
    "- 2018-10-15 : tested using the `DESI 18.7` kernel on jupyter-dev with the `surveysim2017/depth_0m/` outputs (which were generated with an earlier version of the code)."
   ]
  },
  {
   "cell_type": "markdown",
   "metadata": {},
   "source": [
    "### Load Modules"
   ]
  },
  {
   "cell_type": "markdown",
   "metadata": {},
   "source": [
    "Import numpy and matplotlib and draw plots directly to the notebook:"
   ]
  },
  {
   "cell_type": "code",
   "execution_count": null,
   "metadata": {},
   "outputs": [],
   "source": [
    "%pylab inline"
   ]
  },
  {
   "cell_type": "markdown",
   "metadata": {},
   "source": [
    "Import the `desisurvey` modules we need below:"
   ]
  },
  {
   "cell_type": "code",
   "execution_count": null,
   "metadata": {},
   "outputs": [],
   "source": [
    "import desisurvey.progress\n",
    "import desisurvey.utils\n",
    "import desisurvey.plots"
   ]
  },
  {
   "cell_type": "markdown",
   "metadata": {},
   "source": [
    "Ignore expected harmless warnings (or don't run these lines if you prefer to see them):"
   ]
  },
  {
   "cell_type": "code",
   "execution_count": null,
   "metadata": {},
   "outputs": [],
   "source": [
    "import warnings, matplotlib.cbook, astropy._erfa.core\n",
    "warnings.filterwarnings('ignore', category=matplotlib.cbook.mplDeprecation)\n",
    "warnings.filterwarnings('ignore', category=astropy._erfa.core.ErfaWarning)"
   ]
  },
  {
   "cell_type": "markdown",
   "metadata": {},
   "source": [
    "### Find Simulation Outputs"
   ]
  },
  {
   "cell_type": "markdown",
   "metadata": {},
   "source": [
    "Identify which survey simulation you want to study by setting the `$DESISURVEY_OUTPUT` environment variable:\n",
    " - `depth_0m`: Simulates a simple depth-first survey strategy for one random weather realization.\n",
    " - `baseline_1m`: Simulates the baseline survey strategy described in DESI-doc-1767-v3 for one random weather realization.\n",
    " \n",
    "The `0m` and `1m` in the name refer to the fiber assignment (FA) cadence policy (see [DESI-3194](https://desi.lbl.gov/DocDB/cgi-bin/private/ShowDocument?docid=3194) for details):\n",
    " - `m` indicates that FA is run on a monthly cadence (during the 7-night full moon shutdowns).  Other options are `d` (daily) and `q` (quarterly = every 3 full moons).\n",
    " - `0` or `1`  indicates the number of complete (daily/monthly/quarterly) cycles that must elapse after a tile is completely covered by earlier tiles (so that decisions about reobserving QSOs, etc, can be made) before it will have its fibers assigned.  A delay of `0` indicates that FA is run as soon as possible, at the next cycle.\n",
    " \n",
    "Note that `$DESISURVEY_OUTPUT` is only read the first time you use a `desisurvey` function, so the easiest way to make a change below take effect is to restart the jupyter kernel and re-run the initial cells."
   ]
  },
  {
   "cell_type": "code",
   "execution_count": null,
   "metadata": {},
   "outputs": [],
   "source": [
    "import os\n",
    "os.environ['DESISURVEY_OUTPUT'] = '/global/projecta/projectdirs/desi/datachallenge/surveysim2017/depth_0m/'"
   ]
  },
  {
   "cell_type": "markdown",
   "metadata": {},
   "source": [
    "## Survey Progress"
   ]
  },
  {
   "cell_type": "markdown",
   "metadata": {},
   "source": [
    "The main output from a survey simulation is a FITS file that records the simulated survey progress. Progress is organized around **tiles** and **exposures**.  Tiles are predefined ([DESI-717](https://desi.lbl.gov/DocDB/cgi-bin/private/ShowDocument?docid=717)) to cover the whole survey footprint in 8 dithered passes. Each tile is observed with one or more exposures.  Multiple exposures of a tile are sometimes required to:\n",
    " - Split a long exposure to minimize the impact of cosmic rays.\n",
    " - Continue an exposure that is terminated early due to a program change (or dawn).\n",
    " - Continue an exposure that is found to have insufficient signal to noise after pipeline processing.\n",
    "\n",
    "After setting `$DESISURVEY_OUTPUT`, load the corresponding progress using:"
   ]
  },
  {
   "cell_type": "code",
   "execution_count": null,
   "metadata": {},
   "outputs": [],
   "source": [
    "progress = desisurvey.progress.Progress(restore='progress.fits')"
   ]
  },
  {
   "cell_type": "markdown",
   "metadata": {},
   "source": [
    "The returned object has some useful summary methods and attributes, for example:"
   ]
  },
  {
   "cell_type": "code",
   "execution_count": null,
   "metadata": {},
   "outputs": [],
   "source": [
    "print('Survey runs {} to {} and observes {} tiles with {} exposures'\n",
    "      .format(\n",
    "          desisurvey.utils.get_date(progress.first_mjd),\n",
    "          desisurvey.utils.get_date(progress.last_mjd),\n",
    "          progress.num_tiles, progress.num_exp))"
   ]
  },
  {
   "cell_type": "markdown",
   "metadata": {},
   "source": [
    "Note that progress uses MJD timestamps internally, which can be converted to dates using [`desisurvey.utils.get_date()`](http://desisurvey.readthedocs.io/en/latest/api.html?highlight=get_date#desisurvey.utils.get_date)."
   ]
  },
  {
   "cell_type": "code",
   "execution_count": null,
   "metadata": {},
   "outputs": [],
   "source": [
    "def progress_report(progress=progress):\n",
    "    for program, passes in dict(DARK=(0,1,2,3), GRAY=(4,), BRIGHT=(5,6,7)).items():\n",
    "        stats = progress.completed(only_passes=passes, as_tuple=True)\n",
    "        print('Observed {:6.1f} / {} tiles ({:.1f}%) of the {} program '\n",
    "              .format(*stats, program))\n",
    "        \n",
    "progress_report()"
   ]
  },
  {
   "cell_type": "markdown",
   "metadata": {},
   "source": [
    "The progress after the survey completes (100%!) is not very interesting but you can also see progress over any time interval using the `copy_range()` method:"
   ]
  },
  {
   "cell_type": "code",
   "execution_count": null,
   "metadata": {},
   "outputs": [],
   "source": [
    "help(progress.copy_range)"
   ]
  },
  {
   "cell_type": "markdown",
   "metadata": {},
   "source": [
    "Use this method to get a progress report after the first year of the survey:"
   ]
  },
  {
   "cell_type": "code",
   "execution_count": null,
   "metadata": {},
   "outputs": [],
   "source": [
    "year1 = progress.copy_range(progress.first_mjd, progress.first_mjd + 365)\n",
    "progress_report(year1)"
   ]
  },
  {
   "cell_type": "markdown",
   "metadata": {},
   "source": [
    "The progress object is internally organized as an [astropy table](http://docs.astropy.org/en/stable/table/) with one row per tile:"
   ]
  },
  {
   "cell_type": "code",
   "execution_count": null,
   "metadata": {},
   "outputs": [],
   "source": [
    "progress._table[:3]"
   ]
  },
  {
   "cell_type": "markdown",
   "metadata": {},
   "source": [
    "The structure of this table is designed around the needs of the operations software, but some user-oriented views are provided by two methods:"
   ]
  },
  {
   "cell_type": "code",
   "execution_count": null,
   "metadata": {},
   "outputs": [],
   "source": [
    "help(progress.get_summary)"
   ]
  },
  {
   "cell_type": "code",
   "execution_count": null,
   "metadata": {},
   "outputs": [],
   "source": [
    "help(progress.get_exposures)"
   ]
  },
  {
   "cell_type": "markdown",
   "metadata": {},
   "source": [
    "Create these views now. The next sections show how to use them."
   ]
  },
  {
   "cell_type": "code",
   "execution_count": null,
   "metadata": {},
   "outputs": [],
   "source": [
    "summary = progress.get_summary()"
   ]
  },
  {
   "cell_type": "code",
   "execution_count": null,
   "metadata": {},
   "outputs": [],
   "source": [
    "exposures = progress.get_exposures()"
   ]
  },
  {
   "cell_type": "markdown",
   "metadata": {},
   "source": [
    "## Progress Summary"
   ]
  },
  {
   "cell_type": "markdown",
   "metadata": {},
   "source": [
    "The summary table has one row per tile containing summary statistics of all exposures (if any) of that tile:"
   ]
  },
  {
   "cell_type": "code",
   "execution_count": null,
   "metadata": {},
   "outputs": [],
   "source": [
    "summary[:3]"
   ]
  },
  {
   "cell_type": "markdown",
   "metadata": {},
   "source": [
    "The primary metric used to set the goal total exposure time for each tile is signal-to-noise ratio (SNR) for a set of predefined \"threshold targets\":\n",
    " - DARK & GRAY programs: ELGs with integrated \\[OII\\] flux of 8e-17 erg/(s cm^2)\n",
    " - BRIGHT program: BGS targets with r=19.5 and no emission lines\n",
    " \n",
    "Plot the ratio of actual / goal SNR for each tile:"
   ]
  },
  {
   "cell_type": "code",
   "execution_count": null,
   "metadata": {},
   "outputs": [],
   "source": [
    "plt.hist(summary['snr2frac'], range=(0.75, 1.25), bins=25)\n",
    "plt.xlabel('Tile SNR(actual) / SNR (goal)')\n",
    "plt.axvline(np.median(summary['snr2frac']), c='r');"
   ]
  },
  {
   "cell_type": "markdown",
   "metadata": {},
   "source": [
    "Plot the corresponding total exposure times, which shows two peaks for the BRIGHT and DARK+GRAY programs:"
   ]
  },
  {
   "cell_type": "code",
   "execution_count": null,
   "metadata": {},
   "outputs": [],
   "source": [
    "plt.hist(summary['exptime'] / 60, range=(0, 60), bins=30)\n",
    "plt.xlabel('Tile Total Exposure Time [min]')\n",
    "plt.axvline(np.median(summary['exptime'] / 60), c='r');"
   ]
  },
  {
   "cell_type": "markdown",
   "metadata": {},
   "source": [
    "To plot the distribution of any column's values over the sky, separately for each of the 8 passes, use `plot_sky_passes`:"
   ]
  },
  {
   "cell_type": "code",
   "execution_count": null,
   "metadata": {},
   "outputs": [],
   "source": [
    "help(desisurvey.plots.plot_sky_passes)"
   ]
  },
  {
   "cell_type": "markdown",
   "metadata": {},
   "source": [
    "For example, to see the distributions of SNR(actual) / SNR(goal) over the sky after year 1 (this function takes ~30s to run):"
   ]
  },
  {
   "cell_type": "code",
   "execution_count": null,
   "metadata": {},
   "outputs": [],
   "source": [
    "year1_summary = year1.get_summary()\n",
    "desisurvey.plots.plot_sky_passes(\n",
    "    year1_summary['ra'], year1_summary['dec'], year1_summary['pass'],\n",
    "    year1_summary['snr2frac'], label='Tile SNR(actual) / SNR (goal)');"
   ]
  },
  {
   "cell_type": "markdown",
   "metadata": {},
   "source": [
    "For more control of sky plots like this, see [this tutorial](https://github.com/desihub/desiutil/blob/master/doc/nb/SkyMapExamples.ipynb) on the lower-level `desiutil.plots` functions being used."
   ]
  },
  {
   "cell_type": "markdown",
   "metadata": {},
   "source": [
    "The following columns summarize the afternoon planning and scheduling of fiber assignment (FA):\n",
    " - covered: Date the tile is first covered by previous layers and thus eligible for FA.\n",
    " - available: Date the tile first has fibers assigned.\n",
    " - planned: Date the tile is first included in the observing plan.\n",
    " \n",
    "All dates are specified as an integer number of days from the survey start date (defined by [this utility function](http://desisurvey.readthedocs.io/en/latest/api.html#desisurvey.utils.day_number)).  As an example, plot the number of days into the survey that each tile is covered:"
   ]
  },
  {
   "cell_type": "code",
   "execution_count": null,
   "metadata": {},
   "outputs": [],
   "source": [
    "desisurvey.plots.plot_sky_passes(\n",
    "    summary['ra'], summary['dec'], summary['pass'],\n",
    "    summary['covered'], label='Day When Tile is Covered');"
   ]
  },
  {
   "cell_type": "markdown",
   "metadata": {},
   "source": [
    "Note that the depth-first strategy has all tiles planned (=0) at the start of the survey, but other strategies have more complex dependencies between different regions of the sky in each pass."
   ]
  },
  {
   "cell_type": "markdown",
   "metadata": {},
   "source": [
    "### Exercises"
   ]
  },
  {
   "cell_type": "code",
   "execution_count": null,
   "metadata": {},
   "outputs": [],
   "source": [
    "# Plot a histogram of the number of exposures of each tile in the full survey."
   ]
  },
  {
   "cell_type": "code",
   "execution_count": null,
   "metadata": {},
   "outputs": [],
   "source": [
    "# Plot histograms of snr2frac after year-1 separately for the DARK, GRAY, BRIGHT programs."
   ]
  },
  {
   "cell_type": "code",
   "execution_count": null,
   "metadata": {},
   "outputs": [],
   "source": [
    "# Create all-sky plots of the mean airmass that each tile was observed at in the full survey."
   ]
  },
  {
   "cell_type": "code",
   "execution_count": null,
   "metadata": {},
   "outputs": [],
   "source": [
    "# Study the tile \"overhead\", defined as 86400 * (mjd_max - mjd_min) - exptime."
   ]
  },
  {
   "cell_type": "markdown",
   "metadata": {},
   "source": [
    "## Exposures List"
   ]
  },
  {
   "cell_type": "markdown",
   "metadata": {},
   "source": [
    "The exposures list is a table with rows corresponding to each simulated exposure, in increasing time order, with columns for their simulated observing conditions. Note that column names are all UPPER CASE."
   ]
  },
  {
   "cell_type": "code",
   "execution_count": null,
   "metadata": {},
   "outputs": [],
   "source": [
    "exposures[:3]"
   ]
  },
  {
   "cell_type": "markdown",
   "metadata": {},
   "source": [
    "To see the distribution of individual exposure times (and compare with the total exposure time plot above), use:"
   ]
  },
  {
   "cell_type": "code",
   "execution_count": null,
   "metadata": {},
   "outputs": [],
   "source": [
    "plt.hist(exposures['EXPTIME'] / 60, range=(0, 25), bins=25)\n",
    "plt.xlabel('Individual Exposure Time [min]')\n",
    "plt.axvline(np.median(exposures['EXPTIME'] / 60), c='r');"
   ]
  },
  {
   "cell_type": "markdown",
   "metadata": {},
   "source": [
    "To see the distribution of atmospheric seeing during the simulated survey, use:"
   ]
  },
  {
   "cell_type": "code",
   "execution_count": null,
   "metadata": {},
   "outputs": [],
   "source": [
    "plt.hist(exposures['SEEING'], bins=25)\n",
    "plt.xlabel('Per-Exposure FWHM Seeing [arcsec]')\n",
    "plt.axvline(np.median(exposures['SEEING']), c='r');"
   ]
  },
  {
   "cell_type": "markdown",
   "metadata": {},
   "source": [
    "To study the correlation between  exposure time and seeing in the first DARK pass, use:"
   ]
  },
  {
   "cell_type": "code",
   "execution_count": null,
   "metadata": {},
   "outputs": [],
   "source": [
    "pass1 = exposures[exposures['PASS'] == 0]\n",
    "plt.scatter(pass1['EXPTIME'] / 60, pass1['SEEING'], c=pass1['AIRMASS'], lw=0, s=5);\n",
    "plt.colorbar().set_label('Airmass')\n",
    "plt.xlabel('Exposure Time [min]')\n",
    "plt.ylabel('Atmospheric FWHM Seeing [arcsec]');"
   ]
  },
  {
   "cell_type": "markdown",
   "metadata": {},
   "source": [
    "### Exercises"
   ]
  },
  {
   "cell_type": "code",
   "execution_count": null,
   "metadata": {},
   "outputs": [],
   "source": [
    "# Study the correlation between exposure time and moon altitude (which is underestimated in these simulations)"
   ]
  },
  {
   "cell_type": "code",
   "execution_count": null,
   "metadata": {},
   "outputs": [],
   "source": [
    "# Plot histograms of the number of exposures per night in each program."
   ]
  },
  {
   "cell_type": "code",
   "execution_count": null,
   "metadata": {},
   "outputs": [],
   "source": [
    "# Study how often GRAY and BRIGHT exposures are taken with no moon in the sky."
   ]
  },
  {
   "cell_type": "code",
   "execution_count": null,
   "metadata": {},
   "outputs": [],
   "source": [
    "# Study which of the 3 moon parameters correlates most strongly with exposure time."
   ]
  }
 ],
 "metadata": {
  "kernelspec": {
   "display_name": "DESI 18.7",
   "language": "python",
   "name": "desi-18.7"
  },
  "language_info": {
   "codemirror_mode": {
    "name": "ipython",
    "version": 3
   },
   "file_extension": ".py",
   "mimetype": "text/x-python",
   "name": "python",
   "nbconvert_exporter": "python",
   "pygments_lexer": "ipython3",
   "version": "3.6.6"
  }
 },
 "nbformat": 4,
 "nbformat_minor": 2
}

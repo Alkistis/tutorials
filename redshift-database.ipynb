{
 "cells": [
  {
   "cell_type": "markdown",
   "metadata": {},
   "source": [
    "# Redshift Database Tutorial\n",
    "\n",
    "## Abstract\n",
    "\n",
    "This tutorial will cover the basics of using the redshift database, which is loaded from the outputs of the DESI pipeline.  Currently, this is based on reference run 18.3, and uses a SQLite database.  However, by using [SQLAlchemy](http://www.sqlalchemy.org/), we abstract away the details of the database.  In other words only tiny changes to the initial configuration are needed to run the same code with a [PostgreSQL](https://www.postgresql.org/) database."
   ]
  },
  {
   "cell_type": "markdown",
   "metadata": {},
   "source": [
    "## Initial Setup\n",
    "\n",
    "This just imports everything we need and sets up paths and environment variables so we can find things.  The paths are based on the [minitest notebook](https://github.com/desihub/desitest/blob/master/mini/minitest.ipynb)."
   ]
  },
  {
   "cell_type": "code",
   "execution_count": 1,
   "metadata": {},
   "outputs": [],
   "source": [
    "#\n",
    "# Imports\n",
    "#\n",
    "%matplotlib inline\n",
    "import os\n",
    "from argparse import Namespace\n",
    "import numpy as np\n",
    "import matplotlib\n",
    "import matplotlib.pyplot as plt\n",
    "from matplotlib.font_manager import fontManager, FontProperties\n",
    "from sqlalchemy import __version__ as sqlalchemy_version\n",
    "from sqlalchemy.sql import func\n",
    "from astropy.constants import c as lightspeed\n",
    "from astropy.table import Table, MaskedColumn\n",
    "#\n",
    "# DESI software\n",
    "#\n",
    "from desitarget.targetmask import (desi_mask, mws_mask, bgs_mask)\n",
    "from desisim.spec_qa import redshifts as dsq_z\n",
    "import desispec.database.redshift as db\n",
    "#\n",
    "# Paths to files, etc.\n",
    "#\n",
    "reference_run = '18.3'\n",
    "basedir = os.path.join('/global/project/projectdirs/desi/datachallenge/reference_runs', reference_run)\n",
    "surveydir = os.environ['DESISURVEY_OUTPUT'] = os.path.join(basedir, 'survey')\n",
    "targetdir = os.path.join(basedir, 'targets')\n",
    "fibassigndir = os.path.join(basedir, 'fiberassign')\n",
    "os.environ['DESI_SPECTRO_REDUX'] = os.path.join(basedir, 'spectro', 'redux')\n",
    "os.environ['DESI_SPECTRO_SIM'] = os.path.join(basedir, 'spectro', 'sim')\n",
    "os.environ['PIXPROD'] = 'mini'\n",
    "os.environ['SPECPROD'] = 'mini'\n",
    "reduxdir = os.path.join(os.environ['DESI_SPECTRO_REDUX'], os.environ['SPECPROD'])\n",
    "simdatadir = os.path.join(os.environ['DESI_SPECTRO_SIM'], os.environ['PIXPROD'])\n",
    "os.environ['DESI_SPECTRO_DATA'] = simdatadir\n",
    "#\n",
    "# Working directory.\n",
    "#\n",
    "workingdir = os.getcwd()"
   ]
  },
  {
   "cell_type": "markdown",
   "metadata": {},
   "source": [
    "## Loading the Database\n",
    "\n",
    "Although there is already a database loaded from the 18.3 results, the schema of that database is already out-of-date, so we'll load a new database directly from the 18.3 files.  It should take less than one minute to load.\n",
    "\n",
    "The files that get loaded are:\n",
    "\n",
    "* `survey/exposures.fits`.  This records the data about individual exposures.\n",
    "  - Database table name: `obslist`.\n",
    "  - SQLAlchemy object: `db.ObsList`.\n",
    "  - Primary key: `expid`.\n",
    "* `targets/truth.fits`.  The truth table.  What is the *true* redshift of this object?\n",
    "  - Database table name: `truth`.\n",
    "  - SQLAlchemy object: `db.Truth`.\n",
    "  - Primary key: `targetid`.\n",
    "* `targets/target.fits`. The target table.  What objects are we *trying* to observe?\n",
    "  - Database table name: `target`.\n",
    "  - SQLAlchemy object: `db.Target`.\n",
    "  - Primary key: `targetid`.\n",
    "* `spectro/redux/mini/zcatalog-mini.fits`. The actual redshift catalog; the results of the pipeline.\n",
    "  - Database table name: `zcat`.\n",
    "  - SQLAlchemy object: `db.ZCat`.\n",
    "  - Primary key: `targetid`.\n",
    "* `fiberassign/tile_*.fits`. The fiber assignment data.  What fiber ended up on what target?\n",
    "  - Database table name: `fiberassign`.\n",
    "  - SQLAlchemy object: `db.FiberAssign`.\n",
    "  - Primary key: (`tileid`, `fiber`)."
   ]
  },
  {
   "cell_type": "code",
   "execution_count": 1,
   "metadata": {},
   "outputs": [
    {
     "ename": "NameError",
     "evalue": "name 'db' is not defined",
     "output_type": "error",
     "traceback": [
      "\u001b[0;31m---------------------------------------------------------------------------\u001b[0m",
      "\u001b[0;31mNameError\u001b[0m                                 Traceback (most recent call last)",
      "\u001b[0;32m<ipython-input-1-3ffb349840e0>\u001b[0m in \u001b[0;36m<module>\u001b[0;34m()\u001b[0m\n\u001b[1;32m      2\u001b[0m \u001b[0;31m# We'll be using a SQLite database, ignore the return value of db.setup_db().\u001b[0m\u001b[0;34m\u001b[0m\u001b[0;34m\u001b[0m\u001b[0m\n\u001b[1;32m      3\u001b[0m \u001b[0;31m#\u001b[0m\u001b[0;34m\u001b[0m\u001b[0;34m\u001b[0m\u001b[0m\n\u001b[0;32m----> 4\u001b[0;31m postgresql = db.setup_db(dbfile=os.path.join(workingdir, 'minitest-{0}.db'.format(reference_run)),\n\u001b[0m\u001b[1;32m      5\u001b[0m                          overwrite=True)\n\u001b[1;32m      6\u001b[0m \u001b[0;31m#\u001b[0m\u001b[0;34m\u001b[0m\u001b[0;34m\u001b[0m\u001b[0m\n",
      "\u001b[0;31mNameError\u001b[0m: name 'db' is not defined"
     ]
    }
   ],
   "source": [
    "#\n",
    "# We'll be using a SQLite database, ignore the return value of db.setup_db().\n",
    "#\n",
    "postgresql = db.setup_db(dbfile=os.path.join(workingdir, 'minitest-{0}.db'.format(reference_run)),\n",
    "                         overwrite=True)\n",
    "#\n",
    "# The list of exposures.\n",
    "# The expand option renames the column 'PASS' to 'passnum' in the database.\n",
    "# This is to prevent any collisions with the Python statement 'pass'.\n",
    "#\n",
    "db.load_file(os.path.join(surveydir, 'exposures.fits'), db.ObsList, hdu='EXPOSURES', expand={'PASS': 'passnum'})\n",
    "#\n",
    "# The truth and target tables.\n",
    "#\n",
    "db.load_file(os.path.join(targetdir, 'truth.fits'), db.Truth, hdu='TRUTH')\n",
    "db.load_file(os.path.join(targetdir, 'targets.fits'), db.Target, hdu='TARGETS')\n",
    "#\n",
    "# The redshift catalog.\n",
    "# In this case the expand option expands an array-valued column into corresponding scalar database columns.\n",
    "#\n",
    "db.load_file(os.path.join(reduxdir, 'zcatalog-mini.fits'), db.ZCat, hdu=\"ZCATALOG\",\n",
    "             expand={'COEFF': ('coeff_0', 'coeff_1', 'coeff_2', 'coeff_3', 'coeff_4',\n",
    "                               'coeff_5', 'coeff_6', 'coeff_7', 'coeff_8', 'coeff_9',)})\n",
    "#\n",
    "# The fiberassign outputs are not contained in a single file so a special loading function is needed.\n",
    "#\n",
    "db.load_fiberassign(fibassigndir)"
   ]
  },
  {
   "cell_type": "code",
   "execution_count": 2,
   "metadata": {},
   "outputs": [
    {
     "name": "stdout",
     "output_type": "stream",
     "text": [
      "INFO:redshift.py:732:setup_db: Begin creating tables.\n",
      "INFO:redshift.py:736:setup_db: Finished creating tables.\n"
     ]
    }
   ],
   "source": [
    "#\n",
    "# If the database already exists, just skip to this step.\n",
    "#\n",
    "postgresql = db.setup_db(dbfile=os.path.join(workingdir, 'minitest-{0}.db'.format(reference_run)))"
   ]
  },
  {
   "cell_type": "markdown",
   "metadata": {},
   "source": [
    "## Learning About the Tables\n",
    "\n",
    "The tables in the database are listed above.  To inspect an individual table, you can use the `__table__` attribute."
   ]
  },
  {
   "cell_type": "code",
   "execution_count": 3,
   "metadata": {},
   "outputs": [
    {
     "data": {
      "text/plain": [
       "[('targetid', BigInteger()),\n",
       " ('chi2', Float()),\n",
       " ('coeff_0', Float()),\n",
       " ('coeff_1', Float()),\n",
       " ('coeff_2', Float()),\n",
       " ('coeff_3', Float()),\n",
       " ('coeff_4', Float()),\n",
       " ('coeff_5', Float()),\n",
       " ('coeff_6', Float()),\n",
       " ('coeff_7', Float()),\n",
       " ('coeff_8', Float()),\n",
       " ('coeff_9', Float()),\n",
       " ('z', Float()),\n",
       " ('zerr', Float()),\n",
       " ('zwarn', BigInteger()),\n",
       " ('npixels', BigInteger()),\n",
       " ('spectype', String()),\n",
       " ('subtype', String()),\n",
       " ('ncoeff', BigInteger()),\n",
       " ('deltachi2', Float()),\n",
       " ('brickname', String()),\n",
       " ('numexp', Integer()),\n",
       " ('numtile', Integer()),\n",
       " ('brickid', Integer()),\n",
       " ('brick_objid', Integer()),\n",
       " ('ra', Float()),\n",
       " ('dec', Float()),\n",
       " ('flux_g', Float()),\n",
       " ('flux_r', Float()),\n",
       " ('flux_z', Float()),\n",
       " ('flux_w1', Float()),\n",
       " ('flux_w2', Float()),\n",
       " ('mw_transmission_g', Float()),\n",
       " ('mw_transmission_r', Float()),\n",
       " ('mw_transmission_z', Float()),\n",
       " ('mw_transmission_w1', Float()),\n",
       " ('mw_transmission_w2', Float()),\n",
       " ('psfdepth_g', Float()),\n",
       " ('psfdepth_r', Float()),\n",
       " ('psfdepth_z', Float()),\n",
       " ('galdepth_g', Float()),\n",
       " ('galdepth_r', Float()),\n",
       " ('galdepth_z', Float()),\n",
       " ('shapedev_r', Float()),\n",
       " ('shapedev_e1', Float()),\n",
       " ('shapedev_e2', Float()),\n",
       " ('shapeexp_r', Float()),\n",
       " ('shapeexp_e1', Float()),\n",
       " ('shapeexp_e2', Float()),\n",
       " ('subpriority', Float()),\n",
       " ('desi_target', BigInteger()),\n",
       " ('bgs_target', BigInteger()),\n",
       " ('mws_target', BigInteger()),\n",
       " ('hpxpixel', BigInteger())]"
      ]
     },
     "execution_count": 3,
     "metadata": {},
     "output_type": "execute_result"
    }
   ],
   "source": [
    "#\n",
    "# Print the table columns and their types.\n",
    "#\n",
    "[(c.name, c.type) for c in db.ZCat.__table__.columns]"
   ]
  },
  {
   "cell_type": "markdown",
   "metadata": {},
   "source": [
    "### Exercise\n",
    "\n",
    "* What is the type of the `night` column of the `obslist` table?"
   ]
  },
  {
   "cell_type": "markdown",
   "metadata": {},
   "source": [
    "## Simple Queries\n",
    "\n",
    "Queries are set up with the `.query()` method on Session objects.  In this case, there's a prepared Session object called `db.dbSession`.  `.filter()` corresponds to a `WHERE` clause in SQL."
   ]
  },
  {
   "cell_type": "code",
   "execution_count": 14,
   "metadata": {},
   "outputs": [],
   "source": [
    "#\n",
    "# Select ELG targets.  Note the special way we obtain the bitwise and operator.\n",
    "#\n",
    "q = db.dbSession.query(db.ZCat).filter(db.ZCat.desi_target.op('&')(desi_mask.ELG) != 0).all()"
   ]
  },
  {
   "cell_type": "code",
   "execution_count": 16,
   "metadata": {},
   "outputs": [
    {
     "data": {
      "text/plain": [
       "[(131074, 'GALAXY', '      ', 0.8424407787443946),\n",
       " (131074, 'GALAXY', '      ', 0.9678619241359127),\n",
       " (131074, 'GALAXY', '      ', 0.8287229641820862),\n",
       " (131074, 'GALAXY', '      ', 0.7121195967821002),\n",
       " (131074, 'GALAXY', '      ', 0.7456858346456738),\n",
       " (131074, 'GALAXY', '      ', 0.8225458728795753),\n",
       " (131074, 'GALAXY', '      ', 0.8381977300639937),\n",
       " (131074, 'GALAXY', '      ', 0.6994246116532523),\n",
       " (131074, 'GALAXY', '      ', 1.4291504675367601),\n",
       " (131074, 'GALAXY', '      ', 1.0755554837492864)]"
      ]
     },
     "execution_count": 16,
     "metadata": {},
     "output_type": "execute_result"
    }
   ],
   "source": [
    "[(q[k].desi_target, q[k].spectype, q[k].subtype, q[k].z) for k in range(10)]"
   ]
  },
  {
   "cell_type": "markdown",
   "metadata": {},
   "source": [
    "### Exercise\n",
    "\n",
    "* How many objects in the `zcat` table have `spectype` 'GALAXY'?"
   ]
  },
  {
   "cell_type": "markdown",
   "metadata": {},
   "source": [
    "## A Join\n",
    "\n",
    "Now let's `JOIN` two tables.  In this case, we'll look at true redshift versus measured redshift."
   ]
  },
  {
   "cell_type": "code",
   "execution_count": 53,
   "metadata": {},
   "outputs": [],
   "source": [
    "q = db.dbSession.query(db.Truth, db.ZCat).filter(db.Truth.targetid == db.ZCat.targetid).all()"
   ]
  },
  {
   "cell_type": "code",
   "execution_count": 56,
   "metadata": {},
   "outputs": [
    {
     "data": {
      "text/plain": [
       "[(0.5218037366867065, 0.5214079152662674),\n",
       " (0.2575424611568451, 0.2575131622767667),\n",
       " (0.2105119228363037, 0.21052371408781928),\n",
       " (0.3993244469165802, 0.39953320885170834),\n",
       " (0.18243135511875153, 0.18242319397537196),\n",
       " (0.08806214481592178, 0.0880653743352233),\n",
       " (0.2909930348396301, 0.29100643212929483),\n",
       " (0.09915397316217422, 0.09916879034565154),\n",
       " (0.32059818506240845, 0.3207615354442312),\n",
       " (0.2955280840396881, 0.29556227832113313)]"
      ]
     },
     "execution_count": 56,
     "metadata": {},
     "output_type": "execute_result"
    }
   ],
   "source": [
    "[(row.Truth.truez, row.ZCat.z) for row in q[:10]]"
   ]
  },
  {
   "cell_type": "code",
   "execution_count": 57,
   "metadata": {
    "scrolled": true
   },
   "outputs": [
    {
     "data": {
      "image/png": "[encoded data removed]",
      "text/plain": [
       "<matplotlib.figure.Figure at 0x2aaaebbdbd30>"
      ]
     },
     "metadata": {},
     "output_type": "display_data"
    }
   ],
   "source": [
    "#\n",
    "# A very similar plot appears in the tutorial notebook dc17a-truth.\n",
    "#\n",
    "dv = lightspeed.to('km / s') * np.array([(row.ZCat.z - row.Truth.truez) / (1.0 + row.Truth.truez) for row in q])\n",
    "ttype = [row.Truth.templatetype for row in q]\n",
    "fig, axes = plt.subplots(2, 3, figsize=(9,6), dpi=100)\n",
    "for k, objtype in enumerate(set(ttype)):\n",
    "    i = k % 2\n",
    "    j = k % 3\n",
    "    # s = axes[i].subplot(2, 3, 1+i)\n",
    "    ii = np.array(ttype) == objtype\n",
    "    axes[i][j].hist(dv[ii], 50, (-100, 100))\n",
    "    axes[i][j].set_xlabel('{} dv [km/s]'.format(objtype))\n",
    "fig.tight_layout()"
   ]
  },
  {
   "cell_type": "markdown",
   "metadata": {},
   "source": [
    "### Exercise\n",
    "\n",
    "* For QSOs, plot true redshift versus observed redshift."
   ]
  },
  {
   "cell_type": "markdown",
   "metadata": {},
   "source": [
    "## A More Complicated Join\n",
    "\n",
    "Let's do a consistency check: do the number of observations in the `db.ZCat` table match the corresponding number of exposures and fiber assignments?\n",
    "\n",
    "In this example, we're using `sqlalchemy.sql.func` to get the equivalent of `COUNT(*)` and a subquery that itself is a multi-table join."
   ]
  },
  {
   "cell_type": "code",
   "execution_count": 60,
   "metadata": {},
   "outputs": [],
   "source": [
    "q1 = db.dbSession.query(db.ZCat.targetid, db.FiberAssign.tileid, db.ObsList.expid, func.count('*').label('n_assign'))\\\n",
    "                .filter(db.ZCat.targetid == db.FiberAssign.targetid)\\\n",
    "                .filter(db.FiberAssign.tileid == db.ObsList.tileid)\\\n",
    "                .group_by(db.ZCat.targetid).subquery()\n",
    "q2 = db.dbSession.query(db.ZCat, q1)\\\n",
    "                 .filter(db.ZCat.targetid == q1.c.targetid)\\\n",
    "                 .order_by(db.ZCat.targetid).all()"
   ]
  },
  {
   "cell_type": "code",
   "execution_count": 25,
   "metadata": {},
   "outputs": [
    {
     "data": {
      "text/plain": [
       "(<ZCat(targetid=288230398217946075, chi2=17112.869345, coeff_0=94.963331, coeff_1=177.741368, coeff_2=-17.452296, coeff_3=0.837316, coeff_4=-20.817871, coeff_5=4.727626, coeff_6=4.442000, coeff_7=5.866982, coeff_8=1.850335, coeff_9=0.222441, z=0.521408, zerr=0.000081, zwarn=0, npixels=8607, spectype='GALAXY', subtype='      ', ncoeff=10, deltachi2=196.759603, brickname='1526p292', numexp=1, numtile=1, brickid=5261, brick_objid=987, ra=152.539322, dec=29.253738, flux_g=2.042995, flux_r=11.022449, flux_z=34.081341, flux_w1=81.503319, flux_w2=51.304451, mw_transmission_g=0.945499, mw_transmission_r=0.962953, mw_transmission_z=0.978935, mw_transmission_w1=0.996797, mw_transmission_w2=0.998032, psfdepth_g=52.480747, psfdepth_r=7.726806, psfdepth_z=1.870682, galdepth_g=57.543995, galdepth_r=13.182568, galdepth_z=2.511886, shapedev_r=-3.471962, shapedev_e1=0.038299,shapedev_e2=-0.001108,shapeexp_r=-0.176485,shapeexp_e1=0.014364,shapeexp_e2=0.015704,subpriority=0.727578, desi_target=1152921504606846976, bgs_target=65537, mws_target=0, hpxpixel=0)>,\n",
       " 288230398217946075,\n",
       " 34170,\n",
       " 6,\n",
       " 1)"
      ]
     },
     "execution_count": 25,
     "metadata": {},
     "output_type": "execute_result"
    }
   ],
   "source": [
    "q2[0]"
   ]
  },
  {
   "cell_type": "code",
   "execution_count": 61,
   "metadata": {},
   "outputs": [
    {
     "data": {
      "text/plain": [
       "True"
      ]
     },
     "execution_count": 61,
     "metadata": {},
     "output_type": "execute_result"
    }
   ],
   "source": [
    "#\n",
    "# If everything matches up, this should return True.\n",
    "#\n",
    "all([row.ZCat.numexp == row.n_assign for row in q2])"
   ]
  },
  {
   "cell_type": "markdown",
   "metadata": {},
   "source": [
    "### Exercise\n",
    "\n",
    "* What is the distribution of number of exposures?"
   ]
  },
  {
   "cell_type": "markdown",
   "metadata": {},
   "source": [
    "## Efficiency Studies\n",
    "\n",
    "In `desisim.spec_qa.redshifts` there is a lot of functionality for matching redshifts to the truth table (file).  This matching is done automatically for us just by doing a join.  Also note that we're letting the database compute the value of `dz`."
   ]
  },
  {
   "cell_type": "code",
   "execution_count": 4,
   "metadata": {},
   "outputs": [],
   "source": [
    "q = db.dbSession.query(db.Truth, db.ZCat, ((db.ZCat.z - db.Truth.truez)/(1.0 + db.Truth.truez)).label('dz'))\\\n",
    "                .filter(db.Truth.targetid == db.ZCat.targetid).all()"
   ]
  },
  {
   "cell_type": "code",
   "execution_count": 8,
   "metadata": {},
   "outputs": [],
   "source": [
    "def truth_query_to_table(q):\n",
    "    \"\"\"Convert a query result into a Table, so that it can be used with functions in ``desisim.spec_qa.redshifts.``\n",
    "    \"\"\"\n",
    "    t = Table()\n",
    "    columns = list()\n",
    "    mask = [False]*len(q)\n",
    "    for c in db.Truth.__table__.columns:\n",
    "        if c.name == 'truespectype' or c.name == 'templatetype':\n",
    "            columns.append(MaskedColumn([np.char.rstrip(getattr(row.Truth, c.name)) for row in q], name=c.name.upper(), mask=mask))\n",
    "        else:\n",
    "            columns.append(MaskedColumn([getattr(row.Truth, c.name) for row in q], name=c.name.upper(), mask=mask))\n",
    "    for c in ('z', 'zerr', 'zwarn', 'spectype', 'desi_target'):\n",
    "        if c == 'spectype':\n",
    "            columns.append(MaskedColumn([np.char.rstrip(getattr(row.ZCat, c)) for row in q], name=c.upper(), mask=mask))\n",
    "        else:\n",
    "            columns.append(MaskedColumn([getattr(row.ZCat, c) for row in q], name=c.upper(), mask=mask))\n",
    "    t.add_columns(columns)\n",
    "    return t\n",
    "truth = truth_query_to_table(q)"
   ]
  },
  {
   "cell_type": "code",
   "execution_count": 9,
   "metadata": {},
   "outputs": [
    {
     "name": "stdout",
     "output_type": "stream",
     "text": [
      "          ntarg   good  fail  miss  lost\n",
      "STAR       2792   80.3   2.8   1.1  15.9\n",
      "ELG       17200   92.3   1.0   2.1   4.6\n",
      "QSO        3405   99.2   0.5   0.1   0.1\n",
      "LRG        5880  100.0   0.0   0.0   0.0\n",
      "BGS       13415   98.7   0.2   0.6   0.5\n",
      "WD           78   91.0   9.0   0.0   0.0\n",
      "\n",
      "good = correct redshift and ZWARN==0\n",
      "fail = bad redshift and ZWARN==0 (i.e. catastrophic failures)\n",
      "miss = correct redshift ZWARN!=0 (missed opportunities)\n",
      "lost = wrong redshift ZWARN!=0 (wrong but at least we know it)\n"
     ]
    }
   ],
   "source": [
    "print('          ntarg   good  fail  miss  lost')\n",
    "for objtype in set(truth['TEMPLATETYPE']):\n",
    "    #isx = (truth['TEMPLATETYPE'] == objtype)\n",
    "    pgood, pfail, pmiss, plost, nx = dsq_z.zstats(truth, objtype=objtype)\n",
    "    #nx = np.count_nonzero(isx)\n",
    "    print('{:6s} {:8d}  {:5.1f} {:5.1f} {:5.1f} {:5.1f}'.format(objtype, nx, pgood, pfail, pmiss, plost))\n",
    "\n",
    "print()\n",
    "print('good = correct redshift and ZWARN==0')\n",
    "print('fail = bad redshift and ZWARN==0 (i.e. catastrophic failures)')\n",
    "print('miss = correct redshift ZWARN!=0 (missed opportunities)')\n",
    "print('lost = wrong redshift ZWARN!=0 (wrong but at least we know it)')"
   ]
  },
  {
   "cell_type": "code",
   "execution_count": 12,
   "metadata": {},
   "outputs": [
    {
     "name": "stdout",
     "output_type": "stream",
     "text": [
      "            Redrock\n",
      "Truth       GALAXY     QSO    STAR      WD\n",
      "GALAXY       34736       2       0       0\n",
      "QSO             17    3388       0       0\n",
      "STAR           521       0    2271       0\n",
      "WD               7       0      71       0\n"
     ]
    }
   ],
   "source": [
    "#\n",
    "# Confusion matrix.  Borrowed from the minitest notebook.\n",
    "#\n",
    "confusion = dsq_z.spectype_confusion(truth)\n",
    "#\n",
    "# Pretty print the confusion matrix.\n",
    "#\n",
    "print('            Redrock')\n",
    "print('Truth     ', end='')\n",
    "for s1 in confusion:\n",
    "    print('{:>8s}'.format(s1), end='')\n",
    "print()\n",
    "for s1 in confusion:\n",
    "    print('{:8s}  '.format(s1), end='')\n",
    "    for s2 in confusion:\n",
    "        try:\n",
    "            print('{:8d}'.format(confusion[s1][s2]), end='')\n",
    "        except KeyError:\n",
    "            print('{:8d}'.format(0), end='')\n",
    "    print()"
   ]
  },
  {
   "cell_type": "code",
   "execution_count": 14,
   "metadata": {},
   "outputs": [
    {
     "data": {
      "image/png": "[encoded data removed]",
      "text/plain": [
       "<matplotlib.figure.Figure at 0x2aaae94d7240>"
      ]
     },
     "metadata": {},
     "output_type": "display_data"
    }
   ],
   "source": [
    "#\n",
    "# ZWARNING versus magnitude.\n",
    "#\n",
    "g = 22.5 - 2.5*np.log10(truth['FLUX_G'])\n",
    "r = 22.5 - 2.5*np.log10(truth['FLUX_R'])\n",
    "z = 22.5 - 2.5*np.log10(truth['FLUX_Z'])\n",
    "fig, axes = plt.subplots(3, 1, figsize=(8, 4.5*3), dpi=100)\n",
    "p = axes[0].plot(g, truth['ZWARN'], 'k.')\n",
    "foo = axes[0].set_xlim(axes[0].get_xlim()[1], axes[0].get_xlim()[0])\n",
    "foo = axes[0].grid(True)\n",
    "# foo = axes[0].set_xlabel('g Magnitude')\n",
    "foo = axes[0].set_ylabel('ZWARNING')\n",
    "p = axes[1].plot(g, truth['ZWARN'], 'k.')\n",
    "foo = axes[1].set_xlim(axes[1].get_xlim()[1], axes[1].get_xlim()[0])\n",
    "foo = axes[1].set_ylim(0, 50)\n",
    "foo = axes[1].grid(True)\n",
    "# foo = axes[1].set_xlabel('g Magnitude')\n",
    "foo = axes[1].set_ylabel('ZWARNING')\n",
    "p = axes[2].plot(g, truth['ZWARN'], 'k.')\n",
    "foo = axes[2].set_xlim(axes[2].get_xlim()[1], axes[2].get_xlim()[0])\n",
    "foo = axes[2].set_ylim(0, 5)\n",
    "foo = axes[2].grid(True)\n",
    "foo = axes[2].set_xlabel('g Magnitude')\n",
    "foo = axes[2].set_ylabel('ZWARNING')"
   ]
  },
  {
   "cell_type": "code",
   "execution_count": 16,
   "metadata": {},
   "outputs": [
    {
     "name": "stderr",
     "output_type": "stream",
     "text": [
      "/global/common/software/desi/cori/desiconda/20180130-1.2.4-spec/conda/lib/python3.6/site-packages/numpy/core/fromnumeric.py:639: UserWarning: Warning: 'partition' will ignore the 'mask' of the MaskedColumn.\n",
      "  a.partition(kth, axis=axis, kind=kind, order=order)\n"
     ]
    },
    {
     "data": {
      "text/plain": [
       "{'BGS': {'CAT_RATE': 0.002012672381662318,\n",
       "  'EFF': 0.9870294446515095,\n",
       "  'MEAN_DZ': 2.014817975573708e-07,\n",
       "  'MEDIAN_DZ': -3.2039473825284093e-07,\n",
       "  'N_CAT': 27,\n",
       "  'N_GOODZ': 13241,\n",
       "  'N_SURVEY': 13415,\n",
       "  'N_TARG': 13415,\n",
       "  'N_ZWARN0': 13268,\n",
       "  'N_zA': 13415,\n",
       "  'PURITY': 0.9979650286403376,\n",
       "  'RMS_DZ': 0.00011196188734958375},\n",
       " 'ELG': {'CAT_RATE': 0.0021940516821062897,\n",
       "  'EFF': 0.9956118966357874,\n",
       "  'MEAN_DZ': -2.8850504049785456e-07,\n",
       "  'MEDIAN_DZ': -4.788694151063051e-07,\n",
       "  'N_CAT': 18,\n",
       "  'N_GOODZ': 8168,\n",
       "  'N_SURVEY': 8204,\n",
       "  'N_TARG': 8204,\n",
       "  'N_ZWARN0': 8186,\n",
       "  'N_zA': 17200,\n",
       "  'PURITY': 0.997801123870022,\n",
       "  'RMS_DZ': 4.540897641227188e-05},\n",
       " 'LRG': {'CAT_RATE': 0.0,\n",
       "  'EFF': 1.0,\n",
       "  'MEAN_DZ': 1.1547456215299484e-06,\n",
       "  'MEDIAN_DZ': 1.0333530032463693e-06,\n",
       "  'N_CAT': 0,\n",
       "  'N_GOODZ': 5880,\n",
       "  'N_SURVEY': 5880,\n",
       "  'N_TARG': 5880,\n",
       "  'N_ZWARN0': 5880,\n",
       "  'N_zA': 5880,\n",
       "  'PURITY': 1.0,\n",
       "  'RMS_DZ': 0.00014882813874938638},\n",
       " 'QSO': {'CAT_RATE': 0.00499265785609398,\n",
       "  'EFF': 0.9923641703377386,\n",
       "  'MEAN_DZ': 0.00011987482544324836,\n",
       "  'MEDIAN_DZ': 0.00010616591652940666,\n",
       "  'N_CAT': 17,\n",
       "  'N_GOODZ': 3379,\n",
       "  'N_SURVEY': 3405,\n",
       "  'N_TARG': 3405,\n",
       "  'N_ZWARN0': 3396,\n",
       "  'N_zA': 3405,\n",
       "  'PURITY': 0.9949941107184923,\n",
       "  'RMS_DZ': 0.00046346497750353837},\n",
       " 'STAR': {'CAT_RATE': 0.006805614632071459,\n",
       "  'EFF': 0.9527860484900043,\n",
       "  'MEAN_DZ': -3.3388511806064416e-06,\n",
       "  'MEDIAN_DZ': -1.997562608806105e-06,\n",
       "  'N_CAT': 16,\n",
       "  'N_GOODZ': 2240,\n",
       "  'N_SURVEY': 2351,\n",
       "  'N_TARG': 2351,\n",
       "  'N_ZWARN0': 2256,\n",
       "  'N_zA': 2792,\n",
       "  'PURITY': 0.9929078014184397,\n",
       "  'RMS_DZ': 4.145867332443336e-05},\n",
       " 'WD': {'CAT_RATE': 0.08974358974358974,\n",
       "  'EFF': 0.9102564102564102,\n",
       "  'MEAN_DZ': 5.241181173300221e-06,\n",
       "  'MEDIAN_DZ': 4.661473477753488e-06,\n",
       "  'N_CAT': 7,\n",
       "  'N_GOODZ': 71,\n",
       "  'N_SURVEY': 78,\n",
       "  'N_TARG': 78,\n",
       "  'N_ZWARN0': 78,\n",
       "  'N_zA': 78,\n",
       "  'PURITY': 0.9102564102564102,\n",
       "  'RMS_DZ': 6.658454138210851e-05}}"
      ]
     },
     "execution_count": 16,
     "metadata": {},
     "output_type": "execute_result"
    }
   ],
   "source": [
    "#\n",
    "# Obtain detailed statistics for all objects.\n",
    "#\n",
    "stats = dict()\n",
    "for s in np.unique(truth['TEMPLATETYPE']):\n",
    "    stats[s] = dsq_z.calc_obj_stats(truth, s)\n",
    "stats"
   ]
  },
  {
   "cell_type": "code",
   "execution_count": 76,
   "metadata": {},
   "outputs": [],
   "source": [
    "q = db.dbSession.query(db.Truth, db.ZCat, db.FiberAssign, db.ObsList, ((db.ZCat.z - db.Truth.truez)/(1.0 + db.Truth.truez)).label('dz'))\\\n",
    "                .filter(db.Truth.targetid == db.ZCat.targetid)\\\n",
    "                .filter(db.ZCat.targetid == db.FiberAssign.targetid)\\\n",
    "                .filter(db.FiberAssign.tileid == db.ObsList.tileid)\\\n",
    "                .filter(db.ObsList.moonalt > 0)\\\n",
    "                .all()"
   ]
  },
  {
   "cell_type": "code",
   "execution_count": 78,
   "metadata": {},
   "outputs": [
    {
     "data": {
      "text/plain": [
       "True"
      ]
     },
     "execution_count": 78,
     "metadata": {},
     "output_type": "execute_result"
    }
   ],
   "source": [
    "all([row.ZCat.numexp > 1 for row in q])"
   ]
  },
  {
   "cell_type": "markdown",
   "metadata": {},
   "source": [
    "## Survey Progress\n",
    "\n",
    "Survey Progress"
   ]
  },
  {
   "cell_type": "code",
   "execution_count": 21,
   "metadata": {},
   "outputs": [],
   "source": [
    "q = db.dbSession.query(db.ObsList.night, func.count('*').label('n_science')).filter(db.ObsList.flavor == 'science').group_by(db.ObsList.night).order_by(db.ObsList.night).all()"
   ]
  },
  {
   "cell_type": "code",
   "execution_count": 22,
   "metadata": {},
   "outputs": [
    {
     "data": {
      "text/plain": [
       "[('20200315', 7), ('20200316', 5), ('20200318', 4), ('20200319', 2)]"
      ]
     },
     "execution_count": 22,
     "metadata": {},
     "output_type": "execute_result"
    }
   ],
   "source": [
    "q"
   ]
  },
  {
   "cell_type": "markdown",
   "metadata": {},
   "source": [
    "## TODO\n",
    "\n",
    "* some example of using it to do something useful that is still complicated enough to require joins.  *e.g.*\n",
    "  - redshift efficiency vs. magnitude for some target class\n",
    "  - redshift efficiency vs. moonfrac when moonalt > 0\n",
    "  - making a sky map of progress\n",
    "* Exercises!"
   ]
  },
  {
   "cell_type": "code",
   "execution_count": null,
   "metadata": {},
   "outputs": [],
   "source": []
  }
 ],
 "metadata": {
  "kernelspec": {
   "display_name": "DESI custom",
   "language": "python",
   "name": "desi-custom"
  },
  "language_info": {
   "codemirror_mode": {
    "name": "ipython",
    "version": 3
   },
   "file_extension": ".py",
   "mimetype": "text/x-python",
   "name": "python",
   "nbconvert_exporter": "python",
   "pygments_lexer": "ipython3",
   "version": "3.6.4"
  }
 },
 "nbformat": 4,
 "nbformat_minor": 2
}

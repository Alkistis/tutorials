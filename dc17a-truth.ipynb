{
 "cells": [
  {
   "cell_type": "markdown",
   "metadata": {},
   "source": [
    "# Connecting data challenge outputs to input truth #\n",
    "\n",
    "This tutorial documents how to connect dc17a data challenge outputs\n",
    "back to the input truth.  It uses the \"dc17a-lite\" subset available at NERSC in\n",
    "```\n",
    "/project/projectdirs/desi/datachallenge/dc17a-twopct/dc17a-lite.tar.gz\n",
    "```\n",
    "See https://desi.lbl.gov/trac/wiki/Pipeline/GettingStarted/Laptop/JuneMeeting for\n",
    "instructions on installing the DESI code.  The bottom of this tutorial lists the code versions used while testing this.\n",
    "\n",
    "Stephen Bailey<br/>\n",
    "June 2017"
   ]
  },
  {
   "cell_type": "markdown",
   "metadata": {},
   "source": [
    "## Basic setup ##\n",
    "\n",
    "The first portion of this tutorial doesn't require any DESI-specific code,\n",
    "so just load the minimal set of external dependencies needed here."
   ]
  },
  {
   "cell_type": "code",
   "execution_count": 1,
   "metadata": {},
   "outputs": [
    {
     "name": "stdout",
     "output_type": "stream",
     "text": [
      "Populating the interactive namespace from numpy and matplotlib\n"
     ]
    }
   ],
   "source": [
    "import os\n",
    "import numpy as np\n",
    "import astropy.table\n",
    "import desitutorials\n",
    "%pylab inline"
   ]
  },
  {
   "cell_type": "markdown",
   "metadata": {},
   "source": [
    "For convenience, move into the directory where you unpacked the `dc17a-lite.tar.gz` file.  The following is where this is located at NERSC."
   ]
  },
  {
   "cell_type": "code",
   "execution_count": 2,
   "metadata": {},
   "outputs": [],
   "source": [
    "os.chdir('/project/projectdirs/desi/datachallenge/dc17a-lite/')\n",
    "# os.chdir('/data/desi/datachallenge/dc17a-lite')"
   ]
  },
  {
   "cell_type": "markdown",
   "metadata": {},
   "source": [
    "## Comparing the redshift catalog to the input truth ##\n",
    "\n",
    "Read in the redshift catalog (zcat), targets, and truth file.\n",
    "dc17a has a bug where string fields are padded with spaces,\n",
    "so strip that off now."
   ]
  },
  {
   "cell_type": "code",
   "execution_count": 3,
   "metadata": {},
   "outputs": [],
   "source": [
    "zcat = astropy.table.Table.read('spectro/redux/dc17a2/zcat-dc17a2-lite.fits')\n",
    "targets = astropy.table.Table.read('targets/targets-lite.fits')\n",
    "truth = astropy.table.Table.read('targets/truth-lite.fits')\n",
    "\n",
    "#- but in dc17a: string fields are padded with spaces; fix that\n",
    "### print('Original set of template types:', set(truth['TEMPLATETYPE']))\n",
    "truth['TEMPLATETYPE'][:] = np.char.strip(truth['TEMPLATETYPE'][:])\n",
    "### print('Updated set of template types:', set(truth['TEMPLATETYPE']))"
   ]
  },
  {
   "cell_type": "markdown",
   "metadata": {},
   "source": [
    "Let's look at what columns each of these tables has, and then merge the `zcat` and `truth` tables together."
   ]
  },
  {
   "cell_type": "code",
   "execution_count": 4,
   "metadata": {},
   "outputs": [
    {
     "name": "stdout",
     "output_type": "stream",
     "text": [
      "zcat.colnames:\n",
      "    CHI2 COEFF Z ZERR ZWARN SPECTYPE SUBTYPE TARGETID\n",
      "    DELTACHI2 BRICKNAME\n",
      "targets.colnames:\n",
      "    TARGETID RA DEC DESI_TARGET BGS_TARGET MWS_TARGET SUBPRIORITY OBSCONDITIONS\n",
      "    BRICKNAME DECAM_FLUX WISE_FLUX SHAPEEXP_R SHAPEEXP_E1 SHAPEEXP_E2 SHAPEDEV_R SHAPEDEV_E1\n",
      "    SHAPEDEV_E2 DECAM_DEPTH DECAM_GALDEPTH EBV\n",
      "truth.colnames:\n",
      "    TARGETID MOCKID CONTAM_TARGET TRUEZ TRUESPECTYPE TEMPLATETYPE TEMPLATESUBTYPE TEMPLATEID\n",
      "    SEED MAG DECAM_FLUX WISE_FLUX OIIFLUX HBETAFLUX TEFF LOGG\n",
      "    FEH\n"
     ]
    }
   ],
   "source": [
    "def print_colnames(table_name, tx):\n",
    "    print('{}.colnames:'.format(table_name))\n",
    "    for i in range(0, len(tx.colnames), 8):\n",
    "        print('    '+' '.join(tx.colnames[i:i+8]))\n",
    "\n",
    "print_colnames('zcat', zcat)\n",
    "print_colnames('targets', targets)\n",
    "print_colnames('truth', truth)"
   ]
  },
  {
   "cell_type": "code",
   "execution_count": 5,
   "metadata": {},
   "outputs": [
    {
     "name": "stdout",
     "output_type": "stream",
     "text": [
      "ztruth.colnames:\n",
      "    CHI2 COEFF Z ZERR ZWARN SPECTYPE SUBTYPE TARGETID\n",
      "    DELTACHI2 BRICKNAME MOCKID CONTAM_TARGET TRUEZ TRUESPECTYPE TEMPLATETYPE TEMPLATESUBTYPE\n",
      "    TEMPLATEID SEED MAG DECAM_FLUX WISE_FLUX OIIFLUX HBETAFLUX TEFF\n",
      "    LOGG FEH\n"
     ]
    }
   ],
   "source": [
    "ztruth = astropy.table.join(zcat, truth, keys='TARGETID')\n",
    "print_colnames('ztruth', ztruth)"
   ]
  },
  {
   "cell_type": "markdown",
   "metadata": {},
   "source": [
    "Make a histogram of $\\Delta v = c (z - z_{true}) / (1 + z_{true})$ for each object type:"
   ]
  },
  {
   "cell_type": "code",
   "execution_count": 6,
   "metadata": {},
   "outputs": [
    {
     "data": {
      "image/png": "[encoded data removed]",
      "text/plain": [
       "<matplotlib.figure.Figure at 0x2ae1702cc6d8>"
      ]
     },
     "metadata": {},
     "output_type": "display_data"
    }
   ],
   "source": [
    "dv = 3e5 * (ztruth['Z'] - ztruth['TRUEZ']) / (1 + ztruth['TRUEZ'])\n",
    "figure(figsize=(9,6))\n",
    "for i, objtype in enumerate(set(ztruth['TEMPLATETYPE'])):\n",
    "    subplot(2,3,1+i)\n",
    "    ii = ztruth['TEMPLATETYPE'] == objtype\n",
    "    hist(dv[ii], 50, (-100, 100))\n",
    "    xlabel('{} dv [km/s]'.format(objtype))\n",
    "tight_layout()"
   ]
  },
  {
   "cell_type": "markdown",
   "metadata": {},
   "source": [
    "## Comparing spectra to truth\n",
    "\n",
    "For this next section, we will use some `desispec` code so load that now and set\n",
    "some environment variables so that `desispec.io` can find the data files.  This\n",
    "assumes that we are still in the `dc17a-lite` directory."
   ]
  },
  {
   "cell_type": "code",
   "execution_count": 7,
   "metadata": {},
   "outputs": [],
   "source": [
    "import astropy.io.fits\n",
    "import desispec.io\n",
    "os.environ['DESI_SPECTRO_REDUX'] = os.path.join(os.getcwd(), 'spectro/redux')\n",
    "os.environ['SPECPROD'] = 'dc17a2'"
   ]
  },
  {
   "cell_type": "markdown",
   "metadata": {},
   "source": [
    "Read some spectra and find out what bricks they are on"
   ]
  },
  {
   "cell_type": "code",
   "execution_count": 8,
   "metadata": {},
   "outputs": [],
   "source": [
    "specfile = desispec.io.findfile('spectra', groupname='17244', nside=64)\n",
    "spectra = desispec.io.read_spectra(specfile)"
   ]
  },
  {
   "cell_type": "code",
   "execution_count": 9,
   "metadata": {},
   "outputs": [
    {
     "data": {
      "text/plain": [
       "[<matplotlib.lines.Line2D at 0x2ae170710860>]"
      ]
     },
     "execution_count": 9,
     "metadata": {},
     "output_type": "execute_result"
    },
    {
     "data": {
      "image/png": "[encoded data removed]",
      "text/plain": [
       "<matplotlib.figure.Figure at 0x2ae18488cdd8>"
      ]
     },
     "metadata": {},
     "output_type": "display_data"
    }
   ],
   "source": [
    "itarget = 7\n",
    "plot(spectra.wave['b'], spectra.flux['b'][itarget], color='b')\n",
    "plot(spectra.wave['r'], spectra.flux['r'][itarget], color='r')\n",
    "plot(spectra.wave['z'], spectra.flux['z'][itarget], color='k')"
   ]
  },
  {
   "cell_type": "code",
   "execution_count": 10,
   "metadata": {},
   "outputs": [
    {
     "data": {
      "text/html": [
       "&lt;Row index=7&gt;\n",
       "<table id=\"table47147742219232\">\n",
       "<thead><tr><th>OBJTYPE</th><th>TARGETID</th><th>BRICKNAME</th><th>RA_TARGET</th><th>DEC_TARGET</th></tr></thead>\n",
       "<thead><tr><th>bytes10</th><th>int64</th><th>bytes8</th><th>float64</th><th>float64</th></tr></thead>\n",
       "<tr><td>SCIENCE</td><td>6946492816957564508</td><td>0084m085</td><td>8.45684623718</td><td>-8.61041545868</td></tr>\n",
       "</table>"
      ],
      "text/plain": [
       "<Row index=7>\n",
       "OBJTYPE       TARGETID      BRICKNAME   RA_TARGET     DEC_TARGET  \n",
       "bytes10        int64          bytes8     float64       float64    \n",
       "------- ------------------- --------- ------------- --------------\n",
       "SCIENCE 6946492816957564508  0084m085 8.45684623718 -8.61041545868"
      ]
     },
     "execution_count": 10,
     "metadata": {},
     "output_type": "execute_result"
    }
   ],
   "source": [
    "spectra.fibermap['OBJTYPE', 'TARGETID', 'BRICKNAME', 'RA_TARGET', 'DEC_TARGET'][itarget]"
   ]
  },
  {
   "cell_type": "markdown",
   "metadata": {},
   "source": [
    "What's the truth and redrock fit results for this target?"
   ]
  },
  {
   "cell_type": "code",
   "execution_count": 11,
   "metadata": {},
   "outputs": [
    {
     "data": {
      "text/html": [
       "&lt;Table length=1&gt;\n",
       "<table id=\"table47147738920160\" class=\"table-striped table-bordered table-condensed\">\n",
       "<thead><tr><th>TEMPLATETYPE</th><th>TRUEZ</th><th>SPECTYPE</th><th>Z</th><th>ZERR</th><th>ZWARN</th></tr></thead>\n",
       "<thead><tr><th>str10</th><th>float32</th><th>str6</th><th>float64</th><th>float64</th><th>int64</th></tr></thead>\n",
       "<tr><td>QSO</td><td>2.36204</td><td>QSO</td><td>2.36218577845</td><td>0.000367767469581</td><td>0</td></tr>\n",
       "</table>"
      ],
      "text/plain": [
       "<Table length=1>\n",
       "TEMPLATETYPE  TRUEZ  SPECTYPE       Z              ZERR       ZWARN\n",
       "   str10     float32   str6      float64         float64      int64\n",
       "------------ ------- -------- ------------- ----------------- -----\n",
       "         QSO 2.36204   QSO    2.36218577845 0.000367767469581     0"
      ]
     },
     "execution_count": 11,
     "metadata": {},
     "output_type": "execute_result"
    }
   ],
   "source": [
    "ii = ztruth['TARGETID'] == spectra.fibermap['TARGETID'][itarget]\n",
    "ztruth['TEMPLATETYPE', 'TRUEZ', 'SPECTYPE', 'Z', 'ZERR', 'ZWARN'][ii]"
   ]
  },
  {
   "cell_type": "markdown",
   "metadata": {},
   "source": [
    "The actual true input spectra were not included with dc17a, but they are available at\n",
    "NERSC in:\n",
    "```\n",
    "/project/projectdirs/desi/datachallenge/dc17a-twopct/targets/{group}/truth-{brickname}.fits\n",
    "```\n",
    "where `group = brickname[0:3]`, i.e. the first 3 characters of the brickname.\n",
    "\n",
    "**NOTE**: future data challenges will group the input truth files by healpix like the output spectra, but dc17a did not.\n",
    "\n",
    "The above target came from brickname 0084m085.  If you are running locally (not at NERSC), go get that file now, e.g.\n",
    "```\n",
    "mkdir -p targets/008/\n",
    "scp edison.nersc.gov:/scratch2/scratchdirs/sjbailey/desi/dc17a/targets/008/truth-0084m085.fits targets/008/\n",
    "```\n",
    "Let's see what is in that file:"
   ]
  },
  {
   "cell_type": "code",
   "execution_count": 12,
   "metadata": {},
   "outputs": [
    {
     "name": "stdout",
     "output_type": "stream",
     "text": [
      "Filename: /project/projectdirs/desi/datachallenge/dc17a-twopct/targets/008/truth-0084m085.fits\n",
      "No.    Name      Ver    Type      Cards   Dimensions   Format\n",
      "  0  WAVE          1 PrimaryHDU      12   (32001,)   float32   \n",
      "  1  FLUX          1 ImageHDU         9   (32001, 298)   float32   \n",
      "  2  TRUTH         1 BinTableHDU     72   298R x 17C   [K, K, K, E, 10A, 10A, 10A, J, K, E, 6E, 2E, E, E, E, E, E]   \n",
      "None\n"
     ]
    }
   ],
   "source": [
    "datadir = '/project/projectdirs/desi/datachallenge/dc17a-twopct'\n",
    "fx = astropy.io.fits.open(datadir+'/targets/008/truth-0084m085.fits')\n",
    "print(fx.info())\n",
    "truewave = fx['WAVE'].data\n",
    "trueflux = fx['FLUX'].data\n",
    "truemeta = fx['TRUTH'].data"
   ]
  },
  {
   "cell_type": "markdown",
   "metadata": {},
   "source": [
    "It has the true wavelength, flux, and a TRUTH table which is just a subset\n",
    "of the rows in the the truth file that we previously read.  Let's get the index for\n",
    "the spectrum that we plotted above"
   ]
  },
  {
   "cell_type": "code",
   "execution_count": 13,
   "metadata": {},
   "outputs": [],
   "source": [
    "itruth = np.where(truemeta['TARGETID'] == spectra.fibermap['TARGETID'][itarget])[0][0]"
   ]
  },
  {
   "cell_type": "markdown",
   "metadata": {},
   "source": [
    "Does that look right?\n",
    "\n",
    "**NOTE**: the truth templates are stored in units of erg/(s cm2 Angstrom) while\n",
    "the output spectra are inunits of 1e-17 erg/(s cm2 Angstrom).  We might standardize that\n",
    "in the future..."
   ]
  },
  {
   "cell_type": "code",
   "execution_count": 14,
   "metadata": {},
   "outputs": [
    {
     "data": {
      "text/plain": [
       "(-1, 3)"
      ]
     },
     "execution_count": 14,
     "metadata": {},
     "output_type": "execute_result"
    },
    {
     "data": {
      "image/png": "[encoded data removed]",
      "text/plain": [
       "<matplotlib.figure.Figure at 0x2ae1703dab70>"
      ]
     },
     "metadata": {},
     "output_type": "display_data"
    }
   ],
   "source": [
    "itarget = 7\n",
    "plot(spectra.wave['b'], spectra.flux['b'][itarget], color='b')\n",
    "plot(spectra.wave['r'], spectra.flux['r'][itarget], color='r')\n",
    "plot(spectra.wave['z'], spectra.flux['z'][itarget], color='k')\n",
    "plot(truewave, 1e17*trueflux[itruth], 'y-')\n",
    "ylim(-1, 3)"
   ]
  },
  {
   "cell_type": "markdown",
   "metadata": {},
   "source": [
    "**BUG**: Note the unphysical jump in the template around 9200 Angstrom;\n",
    "That is the cause of many redshift failures, though redrock did get this one right.  That step has been fixed in later software releases."
   ]
  },
  {
   "cell_type": "markdown",
   "metadata": {},
   "source": [
    "## Further work\n",
    "This tutorial used `astropy.table.Table` to read the catalogs\n",
    "and `astropy.table.join` to merge them in a database-like manner.\n",
    "This is convenient, but won't scale to the full DESI dataset.  Reading\n",
    "files with `fitsio` and matching via numpy logic will be more scalable,\n",
    "but is not yet documented here.\n",
    "\n",
    "**TODO**: add example reading with fitsio and matching tables with numpy.\n",
    "\n",
    "**TODO**: add a section on finding and querying the spectro catalog database."
   ]
  },
  {
   "cell_type": "markdown",
   "metadata": {},
   "source": [
    "## Code versions used ##\n",
    "This is at the bottom of the tutorial so that python can introspect what was actually\n",
    "used instead of just what we thought was used"
   ]
  },
  {
   "cell_type": "code",
   "execution_count": 15,
   "metadata": {},
   "outputs": [
    {
     "name": "stdout",
     "output_type": "stream",
     "text": [
      "Code versions used for this tutorial:\n",
      "python      : 3.6.6\n",
      "numpy       : 1.13.3\n",
      "scipy       : 1.1.0\n",
      "astropy     : 2.0.7\n",
      "yaml        : 3.12\n",
      "matplotlib  : 2.1.2\n",
      "desiutil    : 1.9.11\n",
      "desispec    : 0.23.0\n",
      "speclite    : 0.8\n"
     ]
    }
   ],
   "source": [
    "print('Code versions used for this tutorial:')\n",
    "desitutorials.print_code_versions()"
   ]
  },
  {
   "cell_type": "code",
   "execution_count": null,
   "metadata": {},
   "outputs": [],
   "source": []
  }
 ],
 "metadata": {
  "anaconda-cloud": {},
  "kernelspec": {
   "display_name": "DESI 18.7",
   "language": "python",
   "name": "desi-18.7"
  },
  "language_info": {
   "codemirror_mode": {
    "name": "ipython",
    "version": 3
   },
   "file_extension": ".py",
   "mimetype": "text/x-python",
   "name": "python",
   "nbconvert_exporter": "python",
   "pygments_lexer": "ipython3",
   "version": "3.6.6"
  }
 },
 "nbformat": 4,
 "nbformat_minor": 2
}
